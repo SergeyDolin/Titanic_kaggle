{
 "cells": [
  {
   "cell_type": "markdown",
   "metadata": {},
   "source": [
    "## Imports and Data load"
   ]
  },
  {
   "cell_type": "code",
   "execution_count": 283,
   "metadata": {},
   "outputs": [
    {
     "name": "stdout",
     "output_type": "stream",
     "text": [
      "Requirement already satisfied: sweetviz in /Users/sergeidolin/anaconda3/envs/ds_practicum_env/lib/python3.9/site-packages (2.1.4)\n",
      "Requirement already satisfied: pandas!=1.0.0,!=1.0.1,!=1.0.2,>=0.25.3 in /Users/sergeidolin/anaconda3/envs/ds_practicum_env/lib/python3.9/site-packages (from sweetviz) (1.5.3)\n",
      "Requirement already satisfied: numpy>=1.16.0 in /Users/sergeidolin/anaconda3/envs/ds_practicum_env/lib/python3.9/site-packages (from sweetviz) (1.23.1)\n",
      "Requirement already satisfied: matplotlib>=3.1.3 in /Users/sergeidolin/anaconda3/envs/ds_practicum_env/lib/python3.9/site-packages (from sweetviz) (3.7.2)\n",
      "Requirement already satisfied: tqdm>=4.43.0 in /Users/sergeidolin/anaconda3/envs/ds_practicum_env/lib/python3.9/site-packages (from sweetviz) (4.65.0)\n",
      "Requirement already satisfied: scipy>=1.3.2 in /Users/sergeidolin/anaconda3/envs/ds_practicum_env/lib/python3.9/site-packages (from sweetviz) (1.11.1)\n",
      "Requirement already satisfied: jinja2>=2.11.1 in /Users/sergeidolin/anaconda3/envs/ds_practicum_env/lib/python3.9/site-packages (from sweetviz) (3.1.2)\n",
      "Requirement already satisfied: importlib-resources>=1.2.0 in /Users/sergeidolin/anaconda3/envs/ds_practicum_env/lib/python3.9/site-packages (from sweetviz) (6.0.0)\n",
      "Requirement already satisfied: zipp>=3.1.0 in /Users/sergeidolin/anaconda3/envs/ds_practicum_env/lib/python3.9/site-packages (from importlib-resources>=1.2.0->sweetviz) (3.16.2)\n",
      "Requirement already satisfied: MarkupSafe>=2.0 in /Users/sergeidolin/anaconda3/envs/ds_practicum_env/lib/python3.9/site-packages (from jinja2>=2.11.1->sweetviz) (2.1.3)\n",
      "Requirement already satisfied: contourpy>=1.0.1 in /Users/sergeidolin/anaconda3/envs/ds_practicum_env/lib/python3.9/site-packages (from matplotlib>=3.1.3->sweetviz) (1.1.0)\n",
      "Requirement already satisfied: cycler>=0.10 in /Users/sergeidolin/anaconda3/envs/ds_practicum_env/lib/python3.9/site-packages (from matplotlib>=3.1.3->sweetviz) (0.11.0)\n",
      "Requirement already satisfied: fonttools>=4.22.0 in /Users/sergeidolin/anaconda3/envs/ds_practicum_env/lib/python3.9/site-packages (from matplotlib>=3.1.3->sweetviz) (4.41.1)\n",
      "Requirement already satisfied: kiwisolver>=1.0.1 in /Users/sergeidolin/anaconda3/envs/ds_practicum_env/lib/python3.9/site-packages (from matplotlib>=3.1.3->sweetviz) (1.4.4)\n",
      "Requirement already satisfied: packaging>=20.0 in /Users/sergeidolin/anaconda3/envs/ds_practicum_env/lib/python3.9/site-packages (from matplotlib>=3.1.3->sweetviz) (23.1)\n",
      "Requirement already satisfied: pillow>=6.2.0 in /Users/sergeidolin/anaconda3/envs/ds_practicum_env/lib/python3.9/site-packages (from matplotlib>=3.1.3->sweetviz) (10.0.0)\n",
      "Requirement already satisfied: pyparsing<3.1,>=2.3.1 in /Users/sergeidolin/anaconda3/envs/ds_practicum_env/lib/python3.9/site-packages (from matplotlib>=3.1.3->sweetviz) (3.0.9)\n",
      "Requirement already satisfied: python-dateutil>=2.7 in /Users/sergeidolin/anaconda3/envs/ds_practicum_env/lib/python3.9/site-packages (from matplotlib>=3.1.3->sweetviz) (2.8.2)\n",
      "Requirement already satisfied: pytz>=2020.1 in /Users/sergeidolin/anaconda3/envs/ds_practicum_env/lib/python3.9/site-packages (from pandas!=1.0.0,!=1.0.1,!=1.0.2,>=0.25.3->sweetviz) (2023.3)\n",
      "Requirement already satisfied: six>=1.5 in /Users/sergeidolin/anaconda3/envs/ds_practicum_env/lib/python3.9/site-packages (from python-dateutil>=2.7->matplotlib>=3.1.3->sweetviz) (1.16.0)\n",
      "Note: you may need to restart the kernel to use updated packages.\n",
      "Requirement already satisfied: scikit-learn==1.1.3 in /Users/sergeidolin/anaconda3/envs/ds_practicum_env/lib/python3.9/site-packages (1.1.3)\n",
      "Requirement already satisfied: numpy>=1.17.3 in /Users/sergeidolin/anaconda3/envs/ds_practicum_env/lib/python3.9/site-packages (from scikit-learn==1.1.3) (1.23.1)\n",
      "Requirement already satisfied: scipy>=1.3.2 in /Users/sergeidolin/anaconda3/envs/ds_practicum_env/lib/python3.9/site-packages (from scikit-learn==1.1.3) (1.11.1)\n",
      "Requirement already satisfied: joblib>=1.0.0 in /Users/sergeidolin/anaconda3/envs/ds_practicum_env/lib/python3.9/site-packages (from scikit-learn==1.1.3) (1.3.1)\n",
      "Requirement already satisfied: threadpoolctl>=2.0.0 in /Users/sergeidolin/anaconda3/envs/ds_practicum_env/lib/python3.9/site-packages (from scikit-learn==1.1.3) (3.2.0)\n",
      "Note: you may need to restart the kernel to use updated packages.\n",
      "Requirement already satisfied: catboost in /Users/sergeidolin/anaconda3/envs/ds_practicum_env/lib/python3.9/site-packages (1.2.1)\n",
      "Requirement already satisfied: graphviz in /Users/sergeidolin/anaconda3/envs/ds_practicum_env/lib/python3.9/site-packages (from catboost) (0.20.1)\n",
      "Requirement already satisfied: matplotlib in /Users/sergeidolin/anaconda3/envs/ds_practicum_env/lib/python3.9/site-packages (from catboost) (3.7.2)\n",
      "Requirement already satisfied: numpy>=1.16.0 in /Users/sergeidolin/anaconda3/envs/ds_practicum_env/lib/python3.9/site-packages (from catboost) (1.23.1)\n",
      "Requirement already satisfied: pandas>=0.24 in /Users/sergeidolin/anaconda3/envs/ds_practicum_env/lib/python3.9/site-packages (from catboost) (1.5.3)\n",
      "Requirement already satisfied: scipy in /Users/sergeidolin/anaconda3/envs/ds_practicum_env/lib/python3.9/site-packages (from catboost) (1.11.1)\n",
      "Requirement already satisfied: plotly in /Users/sergeidolin/anaconda3/envs/ds_practicum_env/lib/python3.9/site-packages (from catboost) (5.16.1)\n",
      "Requirement already satisfied: six in /Users/sergeidolin/anaconda3/envs/ds_practicum_env/lib/python3.9/site-packages (from catboost) (1.16.0)\n",
      "Requirement already satisfied: python-dateutil>=2.8.1 in /Users/sergeidolin/anaconda3/envs/ds_practicum_env/lib/python3.9/site-packages (from pandas>=0.24->catboost) (2.8.2)\n",
      "Requirement already satisfied: pytz>=2020.1 in /Users/sergeidolin/anaconda3/envs/ds_practicum_env/lib/python3.9/site-packages (from pandas>=0.24->catboost) (2023.3)\n",
      "Requirement already satisfied: contourpy>=1.0.1 in /Users/sergeidolin/anaconda3/envs/ds_practicum_env/lib/python3.9/site-packages (from matplotlib->catboost) (1.1.0)\n",
      "Requirement already satisfied: cycler>=0.10 in /Users/sergeidolin/anaconda3/envs/ds_practicum_env/lib/python3.9/site-packages (from matplotlib->catboost) (0.11.0)\n",
      "Requirement already satisfied: fonttools>=4.22.0 in /Users/sergeidolin/anaconda3/envs/ds_practicum_env/lib/python3.9/site-packages (from matplotlib->catboost) (4.41.1)\n",
      "Requirement already satisfied: kiwisolver>=1.0.1 in /Users/sergeidolin/anaconda3/envs/ds_practicum_env/lib/python3.9/site-packages (from matplotlib->catboost) (1.4.4)\n",
      "Requirement already satisfied: packaging>=20.0 in /Users/sergeidolin/anaconda3/envs/ds_practicum_env/lib/python3.9/site-packages (from matplotlib->catboost) (23.1)\n",
      "Requirement already satisfied: pillow>=6.2.0 in /Users/sergeidolin/anaconda3/envs/ds_practicum_env/lib/python3.9/site-packages (from matplotlib->catboost) (10.0.0)\n",
      "Requirement already satisfied: pyparsing<3.1,>=2.3.1 in /Users/sergeidolin/anaconda3/envs/ds_practicum_env/lib/python3.9/site-packages (from matplotlib->catboost) (3.0.9)\n",
      "Requirement already satisfied: importlib-resources>=3.2.0 in /Users/sergeidolin/anaconda3/envs/ds_practicum_env/lib/python3.9/site-packages (from matplotlib->catboost) (6.0.0)\n",
      "Requirement already satisfied: tenacity>=6.2.0 in /Users/sergeidolin/anaconda3/envs/ds_practicum_env/lib/python3.9/site-packages (from plotly->catboost) (8.2.3)\n",
      "Requirement already satisfied: zipp>=3.1.0 in /Users/sergeidolin/anaconda3/envs/ds_practicum_env/lib/python3.9/site-packages (from importlib-resources>=3.2.0->matplotlib->catboost) (3.16.2)\n",
      "Note: you may need to restart the kernel to use updated packages.\n"
     ]
    }
   ],
   "source": [
    "%pip install sweetviz\n",
    "%pip install scikit-learn==1.1.3\n",
    "%pip install catboost"
   ]
  },
  {
   "cell_type": "code",
   "execution_count": 284,
   "metadata": {},
   "outputs": [],
   "source": [
    "import pandas as pd\n",
    "import sweetviz as sv\n",
    "import seaborn as sb\n",
    "import numpy as np\n",
    "import re\n",
    "from catboost import CatBoostClassifier, Pool, metrics, cv\n",
    "from sklearn.metrics import accuracy_score\n",
    "\n",
    "\n",
    "from sklearn.model_selection import train_test_split\n",
    "from sklearn.model_selection import cross_val_score\n",
    "from sklearn.preprocessing import (\n",
    "    OneHotEncoder,\n",
    "    StandardScaler\n",
    ")\n",
    "from sklearn.linear_model import LogisticRegression\n",
    "from sklearn.tree import DecisionTreeClassifier\n",
    "from sklearn.ensemble import RandomForestClassifier\n",
    "\n",
    "from sklearn.utils import shuffle\n",
    "\n",
    "from tqdm import tqdm\n",
    "import matplotlib.pyplot as plt"
   ]
  },
  {
   "cell_type": "code",
   "execution_count": 285,
   "metadata": {},
   "outputs": [],
   "source": [
    "train_data = pd.read_csv('/Users/sergeidolin/anaconda3/Projects/Titanic_kagle/Data/train.csv')\n",
    "test_features = pd.read_csv('/Users/sergeidolin/anaconda3/Projects/Titanic_kagle/Data/test.csv')\n",
    "\n",
    "test_target = pd.read_csv('/Users/sergeidolin/anaconda3/Projects/Titanic_kagle/Data/gender_submission.csv')"
   ]
  },
  {
   "cell_type": "code",
   "execution_count": 286,
   "metadata": {},
   "outputs": [
    {
     "data": {
      "text/html": [
       "<div>\n",
       "<style scoped>\n",
       "    .dataframe tbody tr th:only-of-type {\n",
       "        vertical-align: middle;\n",
       "    }\n",
       "\n",
       "    .dataframe tbody tr th {\n",
       "        vertical-align: top;\n",
       "    }\n",
       "\n",
       "    .dataframe thead th {\n",
       "        text-align: right;\n",
       "    }\n",
       "</style>\n",
       "<table border=\"1\" class=\"dataframe\">\n",
       "  <thead>\n",
       "    <tr style=\"text-align: right;\">\n",
       "      <th></th>\n",
       "      <th>PassengerId</th>\n",
       "      <th>Survived</th>\n",
       "      <th>Pclass</th>\n",
       "      <th>Name</th>\n",
       "      <th>Sex</th>\n",
       "      <th>Age</th>\n",
       "      <th>SibSp</th>\n",
       "      <th>Parch</th>\n",
       "      <th>Ticket</th>\n",
       "      <th>Fare</th>\n",
       "      <th>Cabin</th>\n",
       "      <th>Embarked</th>\n",
       "    </tr>\n",
       "  </thead>\n",
       "  <tbody>\n",
       "    <tr>\n",
       "      <th>0</th>\n",
       "      <td>1</td>\n",
       "      <td>0</td>\n",
       "      <td>3</td>\n",
       "      <td>Braund, Mr. Owen Harris</td>\n",
       "      <td>male</td>\n",
       "      <td>22.0</td>\n",
       "      <td>1</td>\n",
       "      <td>0</td>\n",
       "      <td>A/5 21171</td>\n",
       "      <td>7.2500</td>\n",
       "      <td>NaN</td>\n",
       "      <td>S</td>\n",
       "    </tr>\n",
       "    <tr>\n",
       "      <th>1</th>\n",
       "      <td>2</td>\n",
       "      <td>1</td>\n",
       "      <td>1</td>\n",
       "      <td>Cumings, Mrs. John Bradley (Florence Briggs Th...</td>\n",
       "      <td>female</td>\n",
       "      <td>38.0</td>\n",
       "      <td>1</td>\n",
       "      <td>0</td>\n",
       "      <td>PC 17599</td>\n",
       "      <td>71.2833</td>\n",
       "      <td>C85</td>\n",
       "      <td>C</td>\n",
       "    </tr>\n",
       "    <tr>\n",
       "      <th>2</th>\n",
       "      <td>3</td>\n",
       "      <td>1</td>\n",
       "      <td>3</td>\n",
       "      <td>Heikkinen, Miss. Laina</td>\n",
       "      <td>female</td>\n",
       "      <td>26.0</td>\n",
       "      <td>0</td>\n",
       "      <td>0</td>\n",
       "      <td>STON/O2. 3101282</td>\n",
       "      <td>7.9250</td>\n",
       "      <td>NaN</td>\n",
       "      <td>S</td>\n",
       "    </tr>\n",
       "    <tr>\n",
       "      <th>3</th>\n",
       "      <td>4</td>\n",
       "      <td>1</td>\n",
       "      <td>1</td>\n",
       "      <td>Futrelle, Mrs. Jacques Heath (Lily May Peel)</td>\n",
       "      <td>female</td>\n",
       "      <td>35.0</td>\n",
       "      <td>1</td>\n",
       "      <td>0</td>\n",
       "      <td>113803</td>\n",
       "      <td>53.1000</td>\n",
       "      <td>C123</td>\n",
       "      <td>S</td>\n",
       "    </tr>\n",
       "    <tr>\n",
       "      <th>4</th>\n",
       "      <td>5</td>\n",
       "      <td>0</td>\n",
       "      <td>3</td>\n",
       "      <td>Allen, Mr. William Henry</td>\n",
       "      <td>male</td>\n",
       "      <td>35.0</td>\n",
       "      <td>0</td>\n",
       "      <td>0</td>\n",
       "      <td>373450</td>\n",
       "      <td>8.0500</td>\n",
       "      <td>NaN</td>\n",
       "      <td>S</td>\n",
       "    </tr>\n",
       "  </tbody>\n",
       "</table>\n",
       "</div>"
      ],
      "text/plain": [
       "   PassengerId  Survived  Pclass  \\\n",
       "0            1         0       3   \n",
       "1            2         1       1   \n",
       "2            3         1       3   \n",
       "3            4         1       1   \n",
       "4            5         0       3   \n",
       "\n",
       "                                                Name     Sex   Age  SibSp  \\\n",
       "0                            Braund, Mr. Owen Harris    male  22.0      1   \n",
       "1  Cumings, Mrs. John Bradley (Florence Briggs Th...  female  38.0      1   \n",
       "2                             Heikkinen, Miss. Laina  female  26.0      0   \n",
       "3       Futrelle, Mrs. Jacques Heath (Lily May Peel)  female  35.0      1   \n",
       "4                           Allen, Mr. William Henry    male  35.0      0   \n",
       "\n",
       "   Parch            Ticket     Fare Cabin Embarked  \n",
       "0      0         A/5 21171   7.2500   NaN        S  \n",
       "1      0          PC 17599  71.2833   C85        C  \n",
       "2      0  STON/O2. 3101282   7.9250   NaN        S  \n",
       "3      0            113803  53.1000  C123        S  \n",
       "4      0            373450   8.0500   NaN        S  "
      ]
     },
     "execution_count": 286,
     "metadata": {},
     "output_type": "execute_result"
    }
   ],
   "source": [
    "train_data.head()"
   ]
  },
  {
   "cell_type": "code",
   "execution_count": 287,
   "metadata": {},
   "outputs": [
    {
     "data": {
      "text/html": [
       "<div>\n",
       "<style scoped>\n",
       "    .dataframe tbody tr th:only-of-type {\n",
       "        vertical-align: middle;\n",
       "    }\n",
       "\n",
       "    .dataframe tbody tr th {\n",
       "        vertical-align: top;\n",
       "    }\n",
       "\n",
       "    .dataframe thead th {\n",
       "        text-align: right;\n",
       "    }\n",
       "</style>\n",
       "<table border=\"1\" class=\"dataframe\">\n",
       "  <thead>\n",
       "    <tr style=\"text-align: right;\">\n",
       "      <th></th>\n",
       "      <th>PassengerId</th>\n",
       "      <th>Pclass</th>\n",
       "      <th>Name</th>\n",
       "      <th>Sex</th>\n",
       "      <th>Age</th>\n",
       "      <th>SibSp</th>\n",
       "      <th>Parch</th>\n",
       "      <th>Ticket</th>\n",
       "      <th>Fare</th>\n",
       "      <th>Cabin</th>\n",
       "      <th>Embarked</th>\n",
       "    </tr>\n",
       "  </thead>\n",
       "  <tbody>\n",
       "    <tr>\n",
       "      <th>0</th>\n",
       "      <td>892</td>\n",
       "      <td>3</td>\n",
       "      <td>Kelly, Mr. James</td>\n",
       "      <td>male</td>\n",
       "      <td>34.5</td>\n",
       "      <td>0</td>\n",
       "      <td>0</td>\n",
       "      <td>330911</td>\n",
       "      <td>7.8292</td>\n",
       "      <td>NaN</td>\n",
       "      <td>Q</td>\n",
       "    </tr>\n",
       "    <tr>\n",
       "      <th>1</th>\n",
       "      <td>893</td>\n",
       "      <td>3</td>\n",
       "      <td>Wilkes, Mrs. James (Ellen Needs)</td>\n",
       "      <td>female</td>\n",
       "      <td>47.0</td>\n",
       "      <td>1</td>\n",
       "      <td>0</td>\n",
       "      <td>363272</td>\n",
       "      <td>7.0000</td>\n",
       "      <td>NaN</td>\n",
       "      <td>S</td>\n",
       "    </tr>\n",
       "    <tr>\n",
       "      <th>2</th>\n",
       "      <td>894</td>\n",
       "      <td>2</td>\n",
       "      <td>Myles, Mr. Thomas Francis</td>\n",
       "      <td>male</td>\n",
       "      <td>62.0</td>\n",
       "      <td>0</td>\n",
       "      <td>0</td>\n",
       "      <td>240276</td>\n",
       "      <td>9.6875</td>\n",
       "      <td>NaN</td>\n",
       "      <td>Q</td>\n",
       "    </tr>\n",
       "    <tr>\n",
       "      <th>3</th>\n",
       "      <td>895</td>\n",
       "      <td>3</td>\n",
       "      <td>Wirz, Mr. Albert</td>\n",
       "      <td>male</td>\n",
       "      <td>27.0</td>\n",
       "      <td>0</td>\n",
       "      <td>0</td>\n",
       "      <td>315154</td>\n",
       "      <td>8.6625</td>\n",
       "      <td>NaN</td>\n",
       "      <td>S</td>\n",
       "    </tr>\n",
       "    <tr>\n",
       "      <th>4</th>\n",
       "      <td>896</td>\n",
       "      <td>3</td>\n",
       "      <td>Hirvonen, Mrs. Alexander (Helga E Lindqvist)</td>\n",
       "      <td>female</td>\n",
       "      <td>22.0</td>\n",
       "      <td>1</td>\n",
       "      <td>1</td>\n",
       "      <td>3101298</td>\n",
       "      <td>12.2875</td>\n",
       "      <td>NaN</td>\n",
       "      <td>S</td>\n",
       "    </tr>\n",
       "  </tbody>\n",
       "</table>\n",
       "</div>"
      ],
      "text/plain": [
       "   PassengerId  Pclass                                          Name     Sex  \\\n",
       "0          892       3                              Kelly, Mr. James    male   \n",
       "1          893       3              Wilkes, Mrs. James (Ellen Needs)  female   \n",
       "2          894       2                     Myles, Mr. Thomas Francis    male   \n",
       "3          895       3                              Wirz, Mr. Albert    male   \n",
       "4          896       3  Hirvonen, Mrs. Alexander (Helga E Lindqvist)  female   \n",
       "\n",
       "    Age  SibSp  Parch   Ticket     Fare Cabin Embarked  \n",
       "0  34.5      0      0   330911   7.8292   NaN        Q  \n",
       "1  47.0      1      0   363272   7.0000   NaN        S  \n",
       "2  62.0      0      0   240276   9.6875   NaN        Q  \n",
       "3  27.0      0      0   315154   8.6625   NaN        S  \n",
       "4  22.0      1      1  3101298  12.2875   NaN        S  "
      ]
     },
     "execution_count": 287,
     "metadata": {},
     "output_type": "execute_result"
    }
   ],
   "source": [
    "test_features.head()"
   ]
  },
  {
   "cell_type": "markdown",
   "metadata": {},
   "source": [
    "## EDA"
   ]
  },
  {
   "cell_type": "markdown",
   "metadata": {},
   "source": [
    "Let's write a simple function to quickly review data"
   ]
  },
  {
   "cell_type": "code",
   "execution_count": 288,
   "metadata": {},
   "outputs": [],
   "source": [
    "def info_df(df):\n",
    "    plt.figure(figsize=(15, 13))\n",
    "    sb.heatmap(df.corr(), cmap=\"YlGnBu\", annot=True);\n",
    "    print('------------------------------')\n",
    "    print('|    Dataset information.    |')\n",
    "    print('------------------------------')\n",
    "    df.info()\n",
    "    print('------------------------------')\n",
    "    print('|        First 10 rows.      |')\n",
    "    print('------------------------------')\n",
    "    print(df.head(10))\n",
    "    print('---------------------------------')\n",
    "    print('|        Last 10 rows.          |')\n",
    "    print('---------------------------------')\n",
    "    print(df.tail(10))\n",
    "    print('---------------------------')\n",
    "    print('| Descriptive statistics. |')\n",
    "    print('---------------------------')\n",
    "    print(df.describe())\n",
    "    print('----------------------')\n",
    "    print('| Sum of duplicates. |')\n",
    "    print('----------------------')\n",
    "    print(df.duplicated().sum())\n",
    "    print('--------------------------')\n",
    "    print('|    Covariance matrix.  |')\n",
    "    print('--------------------------')\n",
    "    plt.show()"
   ]
  },
  {
   "cell_type": "code",
   "execution_count": 289,
   "metadata": {},
   "outputs": [
    {
     "name": "stdout",
     "output_type": "stream",
     "text": [
      "------------------------------\n",
      "|    Dataset information.    |\n",
      "------------------------------\n",
      "<class 'pandas.core.frame.DataFrame'>\n",
      "RangeIndex: 891 entries, 0 to 890\n",
      "Data columns (total 12 columns):\n",
      " #   Column       Non-Null Count  Dtype  \n",
      "---  ------       --------------  -----  \n",
      " 0   PassengerId  891 non-null    int64  \n",
      " 1   Survived     891 non-null    int64  \n",
      " 2   Pclass       891 non-null    int64  \n",
      " 3   Name         891 non-null    object \n",
      " 4   Sex          891 non-null    object \n",
      " 5   Age          714 non-null    float64\n",
      " 6   SibSp        891 non-null    int64  \n",
      " 7   Parch        891 non-null    int64  \n",
      " 8   Ticket       891 non-null    object \n",
      " 9   Fare         891 non-null    float64\n",
      " 10  Cabin        204 non-null    object \n",
      " 11  Embarked     889 non-null    object \n",
      "dtypes: float64(2), int64(5), object(5)\n",
      "memory usage: 83.7+ KB\n",
      "------------------------------\n",
      "|        First 10 rows.      |\n",
      "------------------------------\n",
      "   PassengerId  Survived  Pclass  \\\n",
      "0            1         0       3   \n",
      "1            2         1       1   \n",
      "2            3         1       3   \n",
      "3            4         1       1   \n",
      "4            5         0       3   \n",
      "5            6         0       3   \n",
      "6            7         0       1   \n",
      "7            8         0       3   \n",
      "8            9         1       3   \n",
      "9           10         1       2   \n",
      "\n",
      "                                                Name     Sex   Age  SibSp  \\\n",
      "0                            Braund, Mr. Owen Harris    male  22.0      1   \n",
      "1  Cumings, Mrs. John Bradley (Florence Briggs Th...  female  38.0      1   \n",
      "2                             Heikkinen, Miss. Laina  female  26.0      0   \n",
      "3       Futrelle, Mrs. Jacques Heath (Lily May Peel)  female  35.0      1   \n",
      "4                           Allen, Mr. William Henry    male  35.0      0   \n",
      "5                                   Moran, Mr. James    male   NaN      0   \n",
      "6                            McCarthy, Mr. Timothy J    male  54.0      0   \n",
      "7                     Palsson, Master. Gosta Leonard    male   2.0      3   \n",
      "8  Johnson, Mrs. Oscar W (Elisabeth Vilhelmina Berg)  female  27.0      0   \n",
      "9                Nasser, Mrs. Nicholas (Adele Achem)  female  14.0      1   \n",
      "\n",
      "   Parch            Ticket     Fare Cabin Embarked  \n",
      "0      0         A/5 21171   7.2500   NaN        S  \n",
      "1      0          PC 17599  71.2833   C85        C  \n",
      "2      0  STON/O2. 3101282   7.9250   NaN        S  \n",
      "3      0            113803  53.1000  C123        S  \n",
      "4      0            373450   8.0500   NaN        S  \n",
      "5      0            330877   8.4583   NaN        Q  \n",
      "6      0             17463  51.8625   E46        S  \n",
      "7      1            349909  21.0750   NaN        S  \n",
      "8      2            347742  11.1333   NaN        S  \n",
      "9      0            237736  30.0708   NaN        C  \n",
      "---------------------------------\n",
      "|        Last 10 rows.          |\n",
      "---------------------------------\n",
      "     PassengerId  Survived  Pclass                                      Name  \\\n",
      "881          882         0       3                        Markun, Mr. Johann   \n",
      "882          883         0       3              Dahlberg, Miss. Gerda Ulrika   \n",
      "883          884         0       2             Banfield, Mr. Frederick James   \n",
      "884          885         0       3                    Sutehall, Mr. Henry Jr   \n",
      "885          886         0       3      Rice, Mrs. William (Margaret Norton)   \n",
      "886          887         0       2                     Montvila, Rev. Juozas   \n",
      "887          888         1       1              Graham, Miss. Margaret Edith   \n",
      "888          889         0       3  Johnston, Miss. Catherine Helen \"Carrie\"   \n",
      "889          890         1       1                     Behr, Mr. Karl Howell   \n",
      "890          891         0       3                       Dooley, Mr. Patrick   \n",
      "\n",
      "        Sex   Age  SibSp  Parch            Ticket     Fare Cabin Embarked  \n",
      "881    male  33.0      0      0            349257   7.8958   NaN        S  \n",
      "882  female  22.0      0      0              7552  10.5167   NaN        S  \n",
      "883    male  28.0      0      0  C.A./SOTON 34068  10.5000   NaN        S  \n",
      "884    male  25.0      0      0   SOTON/OQ 392076   7.0500   NaN        S  \n",
      "885  female  39.0      0      5            382652  29.1250   NaN        Q  \n",
      "886    male  27.0      0      0            211536  13.0000   NaN        S  \n",
      "887  female  19.0      0      0            112053  30.0000   B42        S  \n",
      "888  female   NaN      1      2        W./C. 6607  23.4500   NaN        S  \n",
      "889    male  26.0      0      0            111369  30.0000  C148        C  \n",
      "890    male  32.0      0      0            370376   7.7500   NaN        Q  \n",
      "---------------------------\n",
      "| Descriptive statistics. |\n",
      "---------------------------\n",
      "       PassengerId    Survived      Pclass         Age       SibSp  \\\n",
      "count   891.000000  891.000000  891.000000  714.000000  891.000000   \n",
      "mean    446.000000    0.383838    2.308642   29.699118    0.523008   \n",
      "std     257.353842    0.486592    0.836071   14.526497    1.102743   \n",
      "min       1.000000    0.000000    1.000000    0.420000    0.000000   \n",
      "25%     223.500000    0.000000    2.000000   20.125000    0.000000   \n",
      "50%     446.000000    0.000000    3.000000   28.000000    0.000000   \n",
      "75%     668.500000    1.000000    3.000000   38.000000    1.000000   \n",
      "max     891.000000    1.000000    3.000000   80.000000    8.000000   \n",
      "\n",
      "            Parch        Fare  \n",
      "count  891.000000  891.000000  \n",
      "mean     0.381594   32.204208  \n",
      "std      0.806057   49.693429  \n",
      "min      0.000000    0.000000  \n",
      "25%      0.000000    7.910400  \n",
      "50%      0.000000   14.454200  \n",
      "75%      0.000000   31.000000  \n",
      "max      6.000000  512.329200  \n",
      "----------------------\n",
      "| Sum of duplicates. |\n",
      "----------------------\n",
      "0\n",
      "--------------------------\n",
      "|    Covariance matrix.  |\n",
      "--------------------------\n"
     ]
    },
    {
     "name": "stderr",
     "output_type": "stream",
     "text": [
      "/var/folders/n5/30cd9v_56sz_qrnt8mp_9df40000gn/T/ipykernel_1419/924560989.py:3: FutureWarning: The default value of numeric_only in DataFrame.corr is deprecated. In a future version, it will default to False. Select only valid columns or specify the value of numeric_only to silence this warning.\n",
      "  sb.heatmap(df.corr(), cmap=\"YlGnBu\", annot=True);\n"
     ]
    },
    {
     "data": {
      "image/png": "[encoded data removed]",
      "text/plain": [
       "<Figure size 1500x1300 with 2 Axes>"
      ]
     },
     "metadata": {},
     "output_type": "display_data"
    }
   ],
   "source": [
    "info_df(train_data)"
   ]
  },
  {
   "cell_type": "code",
   "execution_count": 290,
   "metadata": {},
   "outputs": [
    {
     "name": "stdout",
     "output_type": "stream",
     "text": [
      "---------------------------------\n",
      "| Proportion of missing values. |\n",
      "---------------------------------\n"
     ]
    },
    {
     "data": {
      "text/html": [
       "<style type=\"text/css\">\n",
       "#T_fef01_row0_col0, #T_fef01_row1_col0, #T_fef01_row2_col0, #T_fef01_row3_col0, #T_fef01_row4_col0, #T_fef01_row6_col0, #T_fef01_row7_col0, #T_fef01_row8_col0, #T_fef01_row9_col0, #T_fef01_row11_col0 {\n",
       "  background-color: #3b4cc0;\n",
       "  color: #f1f1f1;\n",
       "}\n",
       "#T_fef01_row5_col0 {\n",
       "  background-color: #90b2fe;\n",
       "  color: #000000;\n",
       "}\n",
       "#T_fef01_row10_col0 {\n",
       "  background-color: #b40426;\n",
       "  color: #f1f1f1;\n",
       "}\n",
       "</style>\n",
       "<table id=\"T_fef01\">\n",
       "  <thead>\n",
       "    <tr>\n",
       "      <th class=\"blank level0\" >&nbsp;</th>\n",
       "      <th id=\"T_fef01_level0_col0\" class=\"col_heading level0 col0\" >0</th>\n",
       "    </tr>\n",
       "  </thead>\n",
       "  <tbody>\n",
       "    <tr>\n",
       "      <th id=\"T_fef01_level0_row0\" class=\"row_heading level0 row0\" >PassengerId</th>\n",
       "      <td id=\"T_fef01_row0_col0\" class=\"data row0 col0\" >0.000000</td>\n",
       "    </tr>\n",
       "    <tr>\n",
       "      <th id=\"T_fef01_level0_row1\" class=\"row_heading level0 row1\" >Survived</th>\n",
       "      <td id=\"T_fef01_row1_col0\" class=\"data row1 col0\" >0.000000</td>\n",
       "    </tr>\n",
       "    <tr>\n",
       "      <th id=\"T_fef01_level0_row2\" class=\"row_heading level0 row2\" >Pclass</th>\n",
       "      <td id=\"T_fef01_row2_col0\" class=\"data row2 col0\" >0.000000</td>\n",
       "    </tr>\n",
       "    <tr>\n",
       "      <th id=\"T_fef01_level0_row3\" class=\"row_heading level0 row3\" >Name</th>\n",
       "      <td id=\"T_fef01_row3_col0\" class=\"data row3 col0\" >0.000000</td>\n",
       "    </tr>\n",
       "    <tr>\n",
       "      <th id=\"T_fef01_level0_row4\" class=\"row_heading level0 row4\" >Sex</th>\n",
       "      <td id=\"T_fef01_row4_col0\" class=\"data row4 col0\" >0.000000</td>\n",
       "    </tr>\n",
       "    <tr>\n",
       "      <th id=\"T_fef01_level0_row5\" class=\"row_heading level0 row5\" >Age</th>\n",
       "      <td id=\"T_fef01_row5_col0\" class=\"data row5 col0\" >19.900000</td>\n",
       "    </tr>\n",
       "    <tr>\n",
       "      <th id=\"T_fef01_level0_row6\" class=\"row_heading level0 row6\" >SibSp</th>\n",
       "      <td id=\"T_fef01_row6_col0\" class=\"data row6 col0\" >0.000000</td>\n",
       "    </tr>\n",
       "    <tr>\n",
       "      <th id=\"T_fef01_level0_row7\" class=\"row_heading level0 row7\" >Parch</th>\n",
       "      <td id=\"T_fef01_row7_col0\" class=\"data row7 col0\" >0.000000</td>\n",
       "    </tr>\n",
       "    <tr>\n",
       "      <th id=\"T_fef01_level0_row8\" class=\"row_heading level0 row8\" >Ticket</th>\n",
       "      <td id=\"T_fef01_row8_col0\" class=\"data row8 col0\" >0.000000</td>\n",
       "    </tr>\n",
       "    <tr>\n",
       "      <th id=\"T_fef01_level0_row9\" class=\"row_heading level0 row9\" >Fare</th>\n",
       "      <td id=\"T_fef01_row9_col0\" class=\"data row9 col0\" >0.000000</td>\n",
       "    </tr>\n",
       "    <tr>\n",
       "      <th id=\"T_fef01_level0_row10\" class=\"row_heading level0 row10\" >Cabin</th>\n",
       "      <td id=\"T_fef01_row10_col0\" class=\"data row10 col0\" >77.100000</td>\n",
       "    </tr>\n",
       "    <tr>\n",
       "      <th id=\"T_fef01_level0_row11\" class=\"row_heading level0 row11\" >Embarked</th>\n",
       "      <td id=\"T_fef01_row11_col0\" class=\"data row11 col0\" >0.200000</td>\n",
       "    </tr>\n",
       "  </tbody>\n",
       "</table>\n"
      ],
      "text/plain": [
       "<pandas.io.formats.style.Styler at 0x2abb64dc0>"
      ]
     },
     "execution_count": 290,
     "metadata": {},
     "output_type": "execute_result"
    }
   ],
   "source": [
    "print('---------------------------------')\n",
    "print('| Proportion of missing values. |')\n",
    "print('---------------------------------')\n",
    "pd.DataFrame(round(train_data.isna().mean()*100,1)).style.background_gradient('coolwarm')"
   ]
  },
  {
   "cell_type": "code",
   "execution_count": 291,
   "metadata": {},
   "outputs": [
    {
     "name": "stderr",
     "output_type": "stream",
     "text": [
      "/var/folders/n5/30cd9v_56sz_qrnt8mp_9df40000gn/T/ipykernel_1419/924560989.py:3: FutureWarning: The default value of numeric_only in DataFrame.corr is deprecated. In a future version, it will default to False. Select only valid columns or specify the value of numeric_only to silence this warning.\n",
      "  sb.heatmap(df.corr(), cmap=\"YlGnBu\", annot=True);\n"
     ]
    },
    {
     "name": "stdout",
     "output_type": "stream",
     "text": [
      "------------------------------\n",
      "|    Dataset information.    |\n",
      "------------------------------\n",
      "<class 'pandas.core.frame.DataFrame'>\n",
      "RangeIndex: 418 entries, 0 to 417\n",
      "Data columns (total 11 columns):\n",
      " #   Column       Non-Null Count  Dtype  \n",
      "---  ------       --------------  -----  \n",
      " 0   PassengerId  418 non-null    int64  \n",
      " 1   Pclass       418 non-null    int64  \n",
      " 2   Name         418 non-null    object \n",
      " 3   Sex          418 non-null    object \n",
      " 4   Age          332 non-null    float64\n",
      " 5   SibSp        418 non-null    int64  \n",
      " 6   Parch        418 non-null    int64  \n",
      " 7   Ticket       418 non-null    object \n",
      " 8   Fare         417 non-null    float64\n",
      " 9   Cabin        91 non-null     object \n",
      " 10  Embarked     418 non-null    object \n",
      "dtypes: float64(2), int64(4), object(5)\n",
      "memory usage: 36.0+ KB\n",
      "------------------------------\n",
      "|        First 10 rows.      |\n",
      "------------------------------\n",
      "   PassengerId  Pclass                                          Name     Sex  \\\n",
      "0          892       3                              Kelly, Mr. James    male   \n",
      "1          893       3              Wilkes, Mrs. James (Ellen Needs)  female   \n",
      "2          894       2                     Myles, Mr. Thomas Francis    male   \n",
      "3          895       3                              Wirz, Mr. Albert    male   \n",
      "4          896       3  Hirvonen, Mrs. Alexander (Helga E Lindqvist)  female   \n",
      "5          897       3                    Svensson, Mr. Johan Cervin    male   \n",
      "6          898       3                          Connolly, Miss. Kate  female   \n",
      "7          899       2                  Caldwell, Mr. Albert Francis    male   \n",
      "8          900       3     Abrahim, Mrs. Joseph (Sophie Halaut Easu)  female   \n",
      "9          901       3                       Davies, Mr. John Samuel    male   \n",
      "\n",
      "    Age  SibSp  Parch     Ticket     Fare Cabin Embarked  \n",
      "0  34.5      0      0     330911   7.8292   NaN        Q  \n",
      "1  47.0      1      0     363272   7.0000   NaN        S  \n",
      "2  62.0      0      0     240276   9.6875   NaN        Q  \n",
      "3  27.0      0      0     315154   8.6625   NaN        S  \n",
      "4  22.0      1      1    3101298  12.2875   NaN        S  \n",
      "5  14.0      0      0       7538   9.2250   NaN        S  \n",
      "6  30.0      0      0     330972   7.6292   NaN        Q  \n",
      "7  26.0      1      1     248738  29.0000   NaN        S  \n",
      "8  18.0      0      0       2657   7.2292   NaN        C  \n",
      "9  21.0      2      0  A/4 48871  24.1500   NaN        S  \n",
      "---------------------------------\n",
      "|        Last 10 rows.          |\n",
      "---------------------------------\n",
      "     PassengerId  Pclass                                             Name  \\\n",
      "408         1300       3                  Riordan, Miss. Johanna Hannah\"\"   \n",
      "409         1301       3                        Peacock, Miss. Treasteall   \n",
      "410         1302       3                           Naughton, Miss. Hannah   \n",
      "411         1303       1  Minahan, Mrs. William Edward (Lillian E Thorpe)   \n",
      "412         1304       3                   Henriksson, Miss. Jenny Lovisa   \n",
      "413         1305       3                               Spector, Mr. Woolf   \n",
      "414         1306       1                     Oliva y Ocana, Dona. Fermina   \n",
      "415         1307       3                     Saether, Mr. Simon Sivertsen   \n",
      "416         1308       3                              Ware, Mr. Frederick   \n",
      "417         1309       3                         Peter, Master. Michael J   \n",
      "\n",
      "        Sex   Age  SibSp  Parch              Ticket      Fare Cabin Embarked  \n",
      "408  female   NaN      0      0              334915    7.7208   NaN        Q  \n",
      "409  female   3.0      1      1  SOTON/O.Q. 3101315   13.7750   NaN        S  \n",
      "410  female   NaN      0      0              365237    7.7500   NaN        Q  \n",
      "411  female  37.0      1      0               19928   90.0000   C78        Q  \n",
      "412  female  28.0      0      0              347086    7.7750   NaN        S  \n",
      "413    male   NaN      0      0           A.5. 3236    8.0500   NaN        S  \n",
      "414  female  39.0      0      0            PC 17758  108.9000  C105        C  \n",
      "415    male  38.5      0      0  SOTON/O.Q. 3101262    7.2500   NaN        S  \n",
      "416    male   NaN      0      0              359309    8.0500   NaN        S  \n",
      "417    male   NaN      1      1                2668   22.3583   NaN        C  \n",
      "---------------------------\n",
      "| Descriptive statistics. |\n",
      "---------------------------\n",
      "       PassengerId      Pclass         Age       SibSp       Parch        Fare\n",
      "count   418.000000  418.000000  332.000000  418.000000  418.000000  417.000000\n",
      "mean   1100.500000    2.265550   30.272590    0.447368    0.392344   35.627188\n",
      "std     120.810458    0.841838   14.181209    0.896760    0.981429   55.907576\n",
      "min     892.000000    1.000000    0.170000    0.000000    0.000000    0.000000\n",
      "25%     996.250000    1.000000   21.000000    0.000000    0.000000    7.895800\n",
      "50%    1100.500000    3.000000   27.000000    0.000000    0.000000   14.454200\n",
      "75%    1204.750000    3.000000   39.000000    1.000000    0.000000   31.500000\n",
      "max    1309.000000    3.000000   76.000000    8.000000    9.000000  512.329200\n",
      "----------------------\n",
      "| Sum of duplicates. |\n",
      "----------------------\n",
      "0\n",
      "--------------------------\n",
      "|    Covariance matrix.  |\n",
      "--------------------------\n"
     ]
    },
    {
     "data": {
      "image/png": "[encoded data removed]",
      "text/plain": [
       "<Figure size 1500x1300 with 2 Axes>"
      ]
     },
     "metadata": {},
     "output_type": "display_data"
    }
   ],
   "source": [
    "info_df(test_features)"
   ]
  },
  {
   "cell_type": "code",
   "execution_count": 292,
   "metadata": {},
   "outputs": [
    {
     "name": "stdout",
     "output_type": "stream",
     "text": [
      "---------------------------------\n",
      "| Proportion of missing values. |\n",
      "---------------------------------\n"
     ]
    },
    {
     "data": {
      "text/html": [
       "<style type=\"text/css\">\n",
       "#T_9cd08_row0_col0, #T_9cd08_row1_col0, #T_9cd08_row2_col0, #T_9cd08_row3_col0, #T_9cd08_row5_col0, #T_9cd08_row6_col0, #T_9cd08_row7_col0, #T_9cd08_row8_col0, #T_9cd08_row10_col0 {\n",
       "  background-color: #3b4cc0;\n",
       "  color: #f1f1f1;\n",
       "}\n",
       "#T_9cd08_row4_col0 {\n",
       "  background-color: #92b4fe;\n",
       "  color: #000000;\n",
       "}\n",
       "#T_9cd08_row9_col0 {\n",
       "  background-color: #b40426;\n",
       "  color: #f1f1f1;\n",
       "}\n",
       "</style>\n",
       "<table id=\"T_9cd08\">\n",
       "  <thead>\n",
       "    <tr>\n",
       "      <th class=\"blank level0\" >&nbsp;</th>\n",
       "      <th id=\"T_9cd08_level0_col0\" class=\"col_heading level0 col0\" >0</th>\n",
       "    </tr>\n",
       "  </thead>\n",
       "  <tbody>\n",
       "    <tr>\n",
       "      <th id=\"T_9cd08_level0_row0\" class=\"row_heading level0 row0\" >PassengerId</th>\n",
       "      <td id=\"T_9cd08_row0_col0\" class=\"data row0 col0\" >0.000000</td>\n",
       "    </tr>\n",
       "    <tr>\n",
       "      <th id=\"T_9cd08_level0_row1\" class=\"row_heading level0 row1\" >Pclass</th>\n",
       "      <td id=\"T_9cd08_row1_col0\" class=\"data row1 col0\" >0.000000</td>\n",
       "    </tr>\n",
       "    <tr>\n",
       "      <th id=\"T_9cd08_level0_row2\" class=\"row_heading level0 row2\" >Name</th>\n",
       "      <td id=\"T_9cd08_row2_col0\" class=\"data row2 col0\" >0.000000</td>\n",
       "    </tr>\n",
       "    <tr>\n",
       "      <th id=\"T_9cd08_level0_row3\" class=\"row_heading level0 row3\" >Sex</th>\n",
       "      <td id=\"T_9cd08_row3_col0\" class=\"data row3 col0\" >0.000000</td>\n",
       "    </tr>\n",
       "    <tr>\n",
       "      <th id=\"T_9cd08_level0_row4\" class=\"row_heading level0 row4\" >Age</th>\n",
       "      <td id=\"T_9cd08_row4_col0\" class=\"data row4 col0\" >20.600000</td>\n",
       "    </tr>\n",
       "    <tr>\n",
       "      <th id=\"T_9cd08_level0_row5\" class=\"row_heading level0 row5\" >SibSp</th>\n",
       "      <td id=\"T_9cd08_row5_col0\" class=\"data row5 col0\" >0.000000</td>\n",
       "    </tr>\n",
       "    <tr>\n",
       "      <th id=\"T_9cd08_level0_row6\" class=\"row_heading level0 row6\" >Parch</th>\n",
       "      <td id=\"T_9cd08_row6_col0\" class=\"data row6 col0\" >0.000000</td>\n",
       "    </tr>\n",
       "    <tr>\n",
       "      <th id=\"T_9cd08_level0_row7\" class=\"row_heading level0 row7\" >Ticket</th>\n",
       "      <td id=\"T_9cd08_row7_col0\" class=\"data row7 col0\" >0.000000</td>\n",
       "    </tr>\n",
       "    <tr>\n",
       "      <th id=\"T_9cd08_level0_row8\" class=\"row_heading level0 row8\" >Fare</th>\n",
       "      <td id=\"T_9cd08_row8_col0\" class=\"data row8 col0\" >0.200000</td>\n",
       "    </tr>\n",
       "    <tr>\n",
       "      <th id=\"T_9cd08_level0_row9\" class=\"row_heading level0 row9\" >Cabin</th>\n",
       "      <td id=\"T_9cd08_row9_col0\" class=\"data row9 col0\" >78.200000</td>\n",
       "    </tr>\n",
       "    <tr>\n",
       "      <th id=\"T_9cd08_level0_row10\" class=\"row_heading level0 row10\" >Embarked</th>\n",
       "      <td id=\"T_9cd08_row10_col0\" class=\"data row10 col0\" >0.000000</td>\n",
       "    </tr>\n",
       "  </tbody>\n",
       "</table>\n"
      ],
      "text/plain": [
       "<pandas.io.formats.style.Styler at 0x2abc73550>"
      ]
     },
     "execution_count": 292,
     "metadata": {},
     "output_type": "execute_result"
    }
   ],
   "source": [
    "print('---------------------------------')\n",
    "print('| Proportion of missing values. |')\n",
    "print('---------------------------------')\n",
    "pd.DataFrame(round(test_features.isna().mean()*100,1)).style.background_gradient('coolwarm')"
   ]
  },
  {
   "cell_type": "markdown",
   "metadata": {},
   "source": [
    "We can see that in columns `Age`, `Cabin` and `Embarked` has a gaps in data. And also `Age` has a different data type (Float64). Let's make change to these mistakes!"
   ]
  },
  {
   "cell_type": "markdown",
   "metadata": {},
   "source": [
    "**Rename titels**"
   ]
  },
  {
   "cell_type": "code",
   "execution_count": 293,
   "metadata": {},
   "outputs": [
    {
     "data": {
      "text/plain": [
       "Index(['PassengerId', 'Survived', 'Pclass', 'Name', 'Sex', 'Age', 'SibSp',\n",
       "       'Parch', 'Ticket', 'Fare', 'Cabin', 'Embarked'],\n",
       "      dtype='object')"
      ]
     },
     "execution_count": 293,
     "metadata": {},
     "output_type": "execute_result"
    }
   ],
   "source": [
    "train_data.columns"
   ]
  },
  {
   "cell_type": "code",
   "execution_count": 294,
   "metadata": {},
   "outputs": [],
   "source": [
    "columns = {}\n",
    "for i in train_data.columns:\n",
    "    columns[i] = i.lower()\n",
    "train_data = train_data.rename(columns=columns)\n",
    "test_features = test_features.rename(columns=columns)"
   ]
  },
  {
   "cell_type": "markdown",
   "metadata": {},
   "source": [
    "**Duplicates**"
   ]
  },
  {
   "cell_type": "code",
   "execution_count": 295,
   "metadata": {},
   "outputs": [
    {
     "data": {
      "text/plain": [
       "0"
      ]
     },
     "execution_count": 295,
     "metadata": {},
     "output_type": "execute_result"
    }
   ],
   "source": [
    "train_data = train_data.drop('passengerid', axis = 1)\n",
    "train_data.duplicated().sum()"
   ]
  },
  {
   "cell_type": "code",
   "execution_count": 296,
   "metadata": {},
   "outputs": [
    {
     "data": {
      "text/plain": [
       "0"
      ]
     },
     "execution_count": 296,
     "metadata": {},
     "output_type": "execute_result"
    }
   ],
   "source": [
    "test_features = test_features.drop('passengerid', axis = 1)\n",
    "test_features.duplicated().sum()"
   ]
  },
  {
   "cell_type": "markdown",
   "metadata": {},
   "source": [
    "**Implicit Duplicates**"
   ]
  },
  {
   "cell_type": "markdown",
   "metadata": {},
   "source": [
    "Consider possible implicit duplicates"
   ]
  },
  {
   "cell_type": "code",
   "execution_count": 297,
   "metadata": {},
   "outputs": [
    {
     "name": "stdout",
     "output_type": "stream",
     "text": [
      "sex\n",
      "------------------------------------------------------------\n",
      "['male' 'female']\n",
      "------------------------------------------------------------\n",
      "sibsp\n",
      "------------------------------------------------------------\n",
      "[1 0 3 4 2 5 8]\n",
      "------------------------------------------------------------\n",
      "ticket\n",
      "------------------------------------------------------------\n",
      "['A/5 21171' 'PC 17599' 'STON/O2. 3101282' '113803' '373450' '330877'\n",
      " '17463' '349909' '347742' '237736' 'PP 9549' '113783' 'A/5. 2151'\n",
      " '347082' '350406' '248706' '382652' '244373' '345763' '2649' '239865'\n",
      " '248698' '330923' '113788' '347077' '2631' '19950' '330959' '349216'\n",
      " 'PC 17601' 'PC 17569' '335677' 'C.A. 24579' 'PC 17604' '113789' '2677'\n",
      " 'A./5. 2152' '345764' '2651' '7546' '11668' '349253' 'SC/Paris 2123'\n",
      " '330958' 'S.C./A.4. 23567' '370371' '14311' '2662' '349237' '3101295'\n",
      " 'A/4. 39886' 'PC 17572' '2926' '113509' '19947' 'C.A. 31026' '2697'\n",
      " 'C.A. 34651' 'CA 2144' '2669' '113572' '36973' '347088' 'PC 17605' '2661'\n",
      " 'C.A. 29395' 'S.P. 3464' '3101281' '315151' 'C.A. 33111' 'S.O.C. 14879'\n",
      " '2680' '1601' '348123' '349208' '374746' '248738' '364516' '345767'\n",
      " '345779' '330932' '113059' 'SO/C 14885' '3101278' 'W./C. 6608'\n",
      " 'SOTON/OQ 392086' '343275' '343276' '347466' 'W.E.P. 5734' 'C.A. 2315'\n",
      " '364500' '374910' 'PC 17754' 'PC 17759' '231919' '244367' '349245'\n",
      " '349215' '35281' '7540' '3101276' '349207' '343120' '312991' '349249'\n",
      " '371110' '110465' '2665' '324669' '4136' '2627' 'STON/O 2. 3101294'\n",
      " '370369' 'PC 17558' 'A4. 54510' '27267' '370372' 'C 17369' '2668'\n",
      " '347061' '349241' 'SOTON/O.Q. 3101307' 'A/5. 3337' '228414' 'C.A. 29178'\n",
      " 'SC/PARIS 2133' '11752' '7534' 'PC 17593' '2678' '347081'\n",
      " 'STON/O2. 3101279' '365222' '231945' 'C.A. 33112' '350043' '230080'\n",
      " '244310' 'S.O.P. 1166' '113776' 'A.5. 11206' 'A/5. 851' 'Fa 265302'\n",
      " 'PC 17597' '35851' 'SOTON/OQ 392090' '315037' 'CA. 2343' '371362'\n",
      " 'C.A. 33595' '347068' '315093' '363291' '113505' 'PC 17318' '111240'\n",
      " 'STON/O 2. 3101280' '17764' '350404' '4133' 'PC 17595' '250653' 'LINE'\n",
      " 'SC/PARIS 2131' '230136' '315153' '113767' '370365' '111428' '364849'\n",
      " '349247' '234604' '28424' '350046' 'PC 17610' '368703' '4579' '370370'\n",
      " '248747' '345770' '3101264' '2628' 'A/5 3540' '347054' '2699' '367231'\n",
      " '112277' 'SOTON/O.Q. 3101311' 'F.C.C. 13528' 'A/5 21174' '250646'\n",
      " '367229' '35273' 'STON/O2. 3101283' '243847' '11813' 'W/C 14208'\n",
      " 'SOTON/OQ 392089' '220367' '21440' '349234' '19943' 'PP 4348' 'SW/PP 751'\n",
      " 'A/5 21173' '236171' '347067' '237442' 'C.A. 29566' 'W./C. 6609' '26707'\n",
      " 'C.A. 31921' '28665' 'SCO/W 1585' '367230' 'W./C. 14263'\n",
      " 'STON/O 2. 3101275' '2694' '19928' '347071' '250649' '11751' '244252'\n",
      " '362316' '113514' 'A/5. 3336' '370129' '2650' 'PC 17585' '110152'\n",
      " 'PC 17755' '230433' '384461' '110413' '112059' '382649' 'C.A. 17248'\n",
      " '347083' 'PC 17582' 'PC 17760' '113798' '250644' 'PC 17596' '370375'\n",
      " '13502' '347073' '239853' 'C.A. 2673' '336439' '347464' '345778'\n",
      " 'A/5. 10482' '113056' '349239' '345774' '349206' '237798' '370373'\n",
      " '19877' '11967' 'SC/Paris 2163' '349236' '349233' 'PC 17612' '2693'\n",
      " '113781' '19988' '9234' '367226' '226593' 'A/5 2466' '17421' 'PC 17758'\n",
      " 'P/PP 3381' 'PC 17485' '11767' 'PC 17608' '250651' '349243'\n",
      " 'F.C.C. 13529' '347470' '29011' '36928' '16966' 'A/5 21172' '349219'\n",
      " '234818' '345364' '28551' '111361' '113043' 'PC 17611' '349225' '7598'\n",
      " '113784' '248740' '244361' '229236' '248733' '31418' '386525'\n",
      " 'C.A. 37671' '315088' '7267' '113510' '2695' '2647' '345783' '237671'\n",
      " '330931' '330980' 'SC/PARIS 2167' '2691' 'SOTON/O.Q. 3101310' 'C 7076'\n",
      " '110813' '2626' '14313' 'PC 17477' '11765' '3101267' '323951' 'C 7077'\n",
      " '113503' '2648' '347069' 'PC 17757' '2653' 'STON/O 2. 3101293' '349227'\n",
      " '27849' '367655' 'SC 1748' '113760' '350034' '3101277' '350052' '350407'\n",
      " '28403' '244278' '240929' 'STON/O 2. 3101289' '341826' '4137' '315096'\n",
      " '28664' '347064' '29106' '312992' '349222' '394140' 'STON/O 2. 3101269'\n",
      " '343095' '28220' '250652' '28228' '345773' '349254' 'A/5. 13032' '315082'\n",
      " '347080' 'A/4. 34244' '2003' '250655' '364851' 'SOTON/O.Q. 392078'\n",
      " '110564' '376564' 'SC/AH 3085' 'STON/O 2. 3101274' '13507' 'C.A. 18723'\n",
      " '345769' '347076' '230434' '65306' '33638' '113794' '2666' '113786'\n",
      " '65303' '113051' '17453' 'A/5 2817' '349240' '13509' '17464'\n",
      " 'F.C.C. 13531' '371060' '19952' '364506' '111320' '234360' 'A/S 2816'\n",
      " 'SOTON/O.Q. 3101306' '113792' '36209' '323592' '315089' 'SC/AH Basle 541'\n",
      " '7553' '31027' '3460' '350060' '3101298' '239854' 'A/5 3594' '4134'\n",
      " '11771' 'A.5. 18509' '65304' 'SOTON/OQ 3101317' '113787' 'PC 17609'\n",
      " 'A/4 45380' '36947' 'C.A. 6212' '350035' '315086' '364846' '330909'\n",
      " '4135' '26360' '111427' 'C 4001' '382651' 'SOTON/OQ 3101316' 'PC 17473'\n",
      " 'PC 17603' '349209' '36967' 'C.A. 34260' '226875' '349242' '12749'\n",
      " '349252' '2624' '2700' '367232' 'W./C. 14258' 'PC 17483' '3101296'\n",
      " '29104' '2641' '2690' '315084' '113050' 'PC 17761' '364498' '13568'\n",
      " 'WE/P 5735' '2908' '693' 'SC/PARIS 2146' '244358' '330979' '2620'\n",
      " '347085' '113807' '11755' '345572' '372622' '349251' '218629'\n",
      " 'SOTON/OQ 392082' 'SOTON/O.Q. 392087' 'A/4 48871' '349205' '2686'\n",
      " '350417' 'S.W./PP 752' '11769' 'PC 17474' '14312' 'A/4. 20589' '358585'\n",
      " '243880' '2689' 'STON/O 2. 3101286' '237789' '13049' '3411' '237565'\n",
      " '13567' '14973' 'A./5. 3235' 'STON/O 2. 3101273' 'A/5 3902' '364848'\n",
      " 'SC/AH 29037' '248727' '2664' '349214' '113796' '364511' '111426'\n",
      " '349910' '349246' '113804' 'SOTON/O.Q. 3101305' '370377' '364512'\n",
      " '220845' '31028' '2659' '11753' '350029' '54636' '36963' '219533'\n",
      " '349224' '334912' '27042' '347743' '13214' '112052' '237668'\n",
      " 'STON/O 2. 3101292' '350050' '349231' '13213' 'S.O./P.P. 751' 'CA. 2314'\n",
      " '349221' '8475' '330919' '365226' '349223' '29751' '2623' '5727' '349210'\n",
      " 'STON/O 2. 3101285' '234686' '312993' 'A/5 3536' '19996' '29750'\n",
      " 'F.C. 12750' 'C.A. 24580' '244270' '239856' '349912' '342826' '4138'\n",
      " '330935' '6563' '349228' '350036' '24160' '17474' '349256' '2672'\n",
      " '113800' '248731' '363592' '35852' '348121' 'PC 17475' '36864' '350025'\n",
      " '223596' 'PC 17476' 'PC 17482' '113028' '7545' '250647' '348124' '34218'\n",
      " '36568' '347062' '350048' '12233' '250643' '113806' '315094' '36866'\n",
      " '236853' 'STON/O2. 3101271' '239855' '28425' '233639' '349201' '349218'\n",
      " '16988' '376566' 'STON/O 2. 3101288' '250648' '113773' '335097' '29103'\n",
      " '392096' '345780' '349204' '350042' '29108' '363294' 'SOTON/O2 3101272'\n",
      " '2663' '347074' '112379' '364850' '8471' '345781' '350047' 'S.O./P.P. 3'\n",
      " '2674' '29105' '347078' '383121' '36865' '2687' '113501' 'W./C. 6607'\n",
      " 'SOTON/O.Q. 3101312' '374887' '3101265' '12460' 'PC 17600' '349203'\n",
      " '28213' '17465' '349244' '2685' '2625' '347089' '347063' '112050'\n",
      " '347087' '248723' '3474' '28206' '364499' '112058' 'STON/O2. 3101290'\n",
      " 'S.C./PARIS 2079' 'C 7075' '315098' '19972' '368323' '367228' '2671'\n",
      " '347468' '2223' 'PC 17756' '315097' '392092' '11774' 'SOTON/O2 3101287'\n",
      " '2683' '315090' 'C.A. 5547' '349213' '347060' 'PC 17592' '392091'\n",
      " '113055' '2629' '350026' '28134' '17466' '233866' '236852'\n",
      " 'SC/PARIS 2149' 'PC 17590' '345777' '349248' '695' '345765' '2667'\n",
      " '349212' '349217' '349257' '7552' 'C.A./SOTON 34068' 'SOTON/OQ 392076'\n",
      " '211536' '112053' '111369' '370376']\n",
      "------------------------------------------------------------\n",
      "cabin\n",
      "------------------------------------------------------------\n",
      "[nan 'C85' 'C123' 'E46' 'G6' 'C103' 'D56' 'A6' 'C23 C25 C27' 'B78' 'D33'\n",
      " 'B30' 'C52' 'B28' 'C83' 'F33' 'F G73' 'E31' 'A5' 'D10 D12' 'D26' 'C110'\n",
      " 'B58 B60' 'E101' 'F E69' 'D47' 'B86' 'F2' 'C2' 'E33' 'B19' 'A7' 'C49'\n",
      " 'F4' 'A32' 'B4' 'B80' 'A31' 'D36' 'D15' 'C93' 'C78' 'D35' 'C87' 'B77'\n",
      " 'E67' 'B94' 'C125' 'C99' 'C118' 'D7' 'A19' 'B49' 'D' 'C22 C26' 'C106'\n",
      " 'C65' 'E36' 'C54' 'B57 B59 B63 B66' 'C7' 'E34' 'C32' 'B18' 'C124' 'C91'\n",
      " 'E40' 'T' 'C128' 'D37' 'B35' 'E50' 'C82' 'B96 B98' 'E10' 'E44' 'A34'\n",
      " 'C104' 'C111' 'C92' 'E38' 'D21' 'E12' 'E63' 'A14' 'B37' 'C30' 'D20' 'B79'\n",
      " 'E25' 'D46' 'B73' 'C95' 'B38' 'B39' 'B22' 'C86' 'C70' 'A16' 'C101' 'C68'\n",
      " 'A10' 'E68' 'B41' 'A20' 'D19' 'D50' 'D9' 'A23' 'B50' 'A26' 'D48' 'E58'\n",
      " 'C126' 'B71' 'B51 B53 B55' 'D49' 'B5' 'B20' 'F G63' 'C62 C64' 'E24' 'C90'\n",
      " 'C45' 'E8' 'B101' 'D45' 'C46' 'D30' 'E121' 'D11' 'E77' 'F38' 'B3' 'D6'\n",
      " 'B82 B84' 'D17' 'A36' 'B102' 'B69' 'E49' 'C47' 'D28' 'E17' 'A24' 'C50'\n",
      " 'B42' 'C148']\n",
      "------------------------------------------------------------\n",
      "embarked\n",
      "------------------------------------------------------------\n",
      "['S' 'C' 'Q' nan]\n",
      "------------------------------------------------------------\n"
     ]
    }
   ],
   "source": [
    "for i in ['sex', 'sibsp','ticket', 'cabin','embarked']:\n",
    "    print(i)\n",
    "    print('------------------------------------------------------------')\n",
    "    print(train_data[i].unique())\n",
    "    print('------------------------------------------------------------')"
   ]
  },
  {
   "cell_type": "markdown",
   "metadata": {},
   "source": [
    "As you can see, tickets, cabin and embarker has a mistakes and ambiguity."
   ]
  },
  {
   "cell_type": "markdown",
   "metadata": {},
   "source": [
    "**Tickets**\n",
    "\n",
    "First of all, let's have look on the tickets. We can replace code name and number of the tickets  and leave only number, because code name does not provide useful information. Also we can drop it, and... just do it, because, in my opinion, it is not useful information for our models, like a name.\n",
    "\n",
    "P.S. In fact, there is useful information, but is this case i suggest relyimg on the type of cabin "
   ]
  },
  {
   "cell_type": "code",
   "execution_count": 298,
   "metadata": {},
   "outputs": [],
   "source": [
    "train_data = train_data.drop(['ticket','name'], axis = 1)\n",
    "test_features = test_features.drop(['ticket','name'], axis = 1)"
   ]
  },
  {
   "cell_type": "markdown",
   "metadata": {},
   "source": [
    "**Fill in the blanks**"
   ]
  },
  {
   "cell_type": "markdown",
   "metadata": {},
   "source": [
    "I think its not a big deal and we can fill blanks the median value."
   ]
  },
  {
   "cell_type": "code",
   "execution_count": 299,
   "metadata": {},
   "outputs": [
    {
     "data": {
      "image/png": "[encoded data removed]",
      "text/plain": [
       "<Figure size 640x480 with 1 Axes>"
      ]
     },
     "metadata": {},
     "output_type": "display_data"
    }
   ],
   "source": [
    "train_data['age'] = train_data['age'].fillna(train_data['age'].median())\n",
    "train_data['age'].hist(bins=14);"
   ]
  },
  {
   "cell_type": "markdown",
   "metadata": {},
   "source": [
    "**Cabin**"
   ]
  },
  {
   "cell_type": "markdown",
   "metadata": {},
   "source": [
    "This point is ambiguous. Because the type of room really could affect survival. But we have a lot of gaps in this column. \n",
    "\n",
    "I suggest make a pivot table or just a look on dependency of data between type of room and passenger fare\n",
    "\n",
    "But before that let's make a replace inplicit duplicates."
   ]
  },
  {
   "cell_type": "code",
   "execution_count": 300,
   "metadata": {},
   "outputs": [
    {
     "data": {
      "text/plain": [
       "array(['A10', 'A14', 'A16', 'A19', 'A20', 'A23', 'A24', 'A26', 'A31',\n",
       "       'A32', 'A34', 'A36', 'A5', 'A6', 'A7', 'B101', 'B102', 'B18',\n",
       "       'B19', 'B20', 'B22', 'B28', 'B3', 'B30', 'B35', 'B37', 'B38',\n",
       "       'B39', 'B4', 'B41', 'B42', 'B49', 'B5', 'B50', 'B51 B53 B55',\n",
       "       'B57 B59 B63 B66', 'B58 B60', 'B69', 'B71', 'B73', 'B77', 'B78',\n",
       "       'B79', 'B80', 'B82 B84', 'B86', 'B94', 'B96 B98', 'C101', 'C103',\n",
       "       'C104', 'C106', 'C110', 'C111', 'C118', 'C123', 'C124', 'C125',\n",
       "       'C126', 'C128', 'C148', 'C2', 'C22 C26', 'C23 C25 C27', 'C30',\n",
       "       'C32', 'C45', 'C46', 'C47', 'C49', 'C50', 'C52', 'C54', 'C62 C64',\n",
       "       'C65', 'C68', 'C7', 'C70', 'C78', 'C82', 'C83', 'C85', 'C86',\n",
       "       'C87', 'C90', 'C91', 'C92', 'C93', 'C95', 'C99', 'D', 'D10 D12',\n",
       "       'D11', 'D15', 'D17', 'D19', 'D20', 'D21', 'D26', 'D28', 'D30',\n",
       "       'D33', 'D35', 'D36', 'D37', 'D45', 'D46', 'D47', 'D48', 'D49',\n",
       "       'D50', 'D56', 'D6', 'D7', 'D9', 'E10', 'E101', 'E12', 'E121',\n",
       "       'E17', 'E24', 'E25', 'E31', 'E33', 'E34', 'E36', 'E38', 'E40',\n",
       "       'E44', 'E46', 'E49', 'E50', 'E58', 'E63', 'E67', 'E68', 'E77',\n",
       "       'E8', 'F E69', 'F G63', 'F G73', 'F2', 'F33', 'F38', 'F4', 'G6',\n",
       "       'T', nan], dtype=object)"
      ]
     },
     "execution_count": 300,
     "metadata": {},
     "output_type": "execute_result"
    }
   ],
   "source": [
    "train_data['cabin'].sort_values().unique()"
   ]
  },
  {
   "cell_type": "code",
   "execution_count": 301,
   "metadata": {},
   "outputs": [
    {
     "data": {
      "text/plain": [
       "array(['A11', 'A18', 'A21', 'A29', 'A34', 'A9', 'B10', 'B11', 'B24',\n",
       "       'B26', 'B36', 'B41', 'B45', 'B51 B53 B55', 'B52 B54 B56',\n",
       "       'B57 B59 B63 B66', 'B58 B60', 'B61', 'B69', 'B71', 'B78', 'C101',\n",
       "       'C105', 'C106', 'C116', 'C130', 'C132', 'C22 C26', 'C23 C25 C27',\n",
       "       'C28', 'C31', 'C32', 'C39', 'C46', 'C51', 'C53', 'C54', 'C55 C57',\n",
       "       'C6', 'C62 C64', 'C7', 'C78', 'C80', 'C85', 'C86', 'C89', 'C97',\n",
       "       'D', 'D10 D12', 'D15', 'D19', 'D21', 'D22', 'D28', 'D30', 'D34',\n",
       "       'D37', 'D38', 'D40', 'D43', 'E31', 'E34', 'E39 E41', 'E45', 'E46',\n",
       "       'E50', 'E52', 'E60', 'F', 'F E46', 'F E57', 'F G63', 'F2', 'F33',\n",
       "       'F4', 'G6', nan], dtype=object)"
      ]
     },
     "execution_count": 301,
     "metadata": {},
     "output_type": "execute_result"
    }
   ],
   "source": [
    "test_features['cabin'].sort_values().unique()"
   ]
  },
  {
   "cell_type": "markdown",
   "metadata": {},
   "source": [
    "Right now we have a 3 ways.\n",
    "- The first way, we can replace stuck together cabins on single type like B57 B59 etc. to B (median number).\n",
    "- The second way, we can split this cabins, and attempt recover based on tickets.\n",
    "- The thierd way, we can drop it. \n",
    "\n",
    "In your case choose you way. But i am choose the first."
   ]
  },
  {
   "cell_type": "code",
   "execution_count": 302,
   "metadata": {},
   "outputs": [],
   "source": [
    "train_data = train_data.apply(lambda x: x.replace({'C2 C2 C2':'C2', 'F G73': 'G73', 'F E69': 'E69',\n",
    "                                                     'C2 C2':'C2', 'F G63': 'G63','B51 B53 B55': 'B53', \n",
    "                                                     'B57 B59 B63 B66': 'B61', 'B58 B60': 'B59', 'B82 B84': 'B81', \n",
    "                                                     'B96 B98': 'B97', 'C62 C64': 'C63', 'D10 D12': 'D11',\n",
    "                                                     'C22 C26': 'C24', 'C23 C25 C27': 'C25'}, regex=True))"
   ]
  },
  {
   "cell_type": "code",
   "execution_count": 303,
   "metadata": {},
   "outputs": [],
   "source": [
    "test_features = test_features.apply(lambda x: x.replace({'B51 B53 B55': 'B53', 'B52 B54 B56': 'B54', \n",
    "                                                         'B57 B59 B63 B66': 'B61','B58 B60': 'B59', 'C22 C26': 'C24',\n",
    "                                                         'C23 C25 C27': 'C25','C55 C57':'C56','C62 C64': 'C63', \n",
    "                                                         'D10 D12': 'D11', 'E39 E41': 'E40', 'F E46': 'E46', 'F E57': 'E57',\n",
    "                                                         'F G63': 'G63'}, regex=True))"
   ]
  },
  {
   "cell_type": "code",
   "execution_count": 304,
   "metadata": {},
   "outputs": [],
   "source": [
    "train_data = train_data.dropna()"
   ]
  },
  {
   "cell_type": "code",
   "execution_count": 305,
   "metadata": {},
   "outputs": [
    {
     "data": {
      "text/plain": [
       "array(['A10', 'A14', 'A16', 'A19', 'A20', 'A23', 'A24', 'A26', 'A31',\n",
       "       'A32', 'A34', 'A36', 'A5', 'A6', 'A7', 'B101', 'B102', 'B18',\n",
       "       'B19', 'B20', 'B22', 'B3', 'B30', 'B35', 'B37', 'B38', 'B39', 'B4',\n",
       "       'B41', 'B42', 'B49', 'B5', 'B50', 'B53', 'B59', 'B61', 'B69',\n",
       "       'B71', 'B73', 'B77', 'B78', 'B79', 'B80', 'B81', 'B86', 'B94',\n",
       "       'B97', 'C101', 'C103', 'C104', 'C106', 'C110', 'C111', 'C118',\n",
       "       'C123', 'C124', 'C125', 'C126', 'C128', 'C148', 'C2', 'C24', 'C25',\n",
       "       'C30', 'C32', 'C45', 'C46', 'C47', 'C49', 'C50', 'C52', 'C54',\n",
       "       'C63', 'C65', 'C68', 'C7', 'C70', 'C78', 'C82', 'C83', 'C85',\n",
       "       'C86', 'C87', 'C90', 'C91', 'C92', 'C93', 'C95', 'C99', 'D', 'D11',\n",
       "       'D15', 'D17', 'D19', 'D20', 'D21', 'D26', 'D28', 'D30', 'D33',\n",
       "       'D35', 'D36', 'D37', 'D45', 'D46', 'D47', 'D48', 'D49', 'D50',\n",
       "       'D56', 'D6', 'D7', 'D9', 'E10', 'E101', 'E12', 'E121', 'E17',\n",
       "       'E24', 'E25', 'E31', 'E33', 'E34', 'E36', 'E38', 'E40', 'E44',\n",
       "       'E46', 'E49', 'E50', 'E58', 'E63', 'E67', 'E68', 'E69', 'E77',\n",
       "       'E8', 'F2', 'F33', 'F38', 'F4', 'G6', 'G63', 'G73', 'T'],\n",
       "      dtype=object)"
      ]
     },
     "execution_count": 305,
     "metadata": {},
     "output_type": "execute_result"
    }
   ],
   "source": [
    "train_data['cabin'].sort_values().unique()"
   ]
  },
  {
   "cell_type": "code",
   "execution_count": 306,
   "metadata": {},
   "outputs": [
    {
     "data": {
      "text/plain": [
       "array(['A11', 'A18', 'A21', 'A29', 'A34', 'A9', 'B10', 'B11', 'B24',\n",
       "       'B26', 'B36', 'B41', 'B45', 'B53', 'B54', 'B59', 'B61', 'B69',\n",
       "       'B71', 'B78', 'C101', 'C105', 'C106', 'C116', 'C130', 'C132',\n",
       "       'C24', 'C25', 'C28', 'C31', 'C32', 'C39', 'C46', 'C51', 'C53',\n",
       "       'C54', 'C56', 'C6', 'C63', 'C7', 'C78', 'C80', 'C85', 'C86', 'C89',\n",
       "       'C97', 'D', 'D11', 'D15', 'D19', 'D21', 'D22', 'D28', 'D30', 'D34',\n",
       "       'D37', 'D38', 'D40', 'D43', 'E31', 'E34', 'E40', 'E45', 'E46',\n",
       "       'E50', 'E52', 'E57', 'E60', 'F', 'F2', 'F33', 'F4', 'G6', 'G63',\n",
       "       nan], dtype=object)"
      ]
     },
     "execution_count": 306,
     "metadata": {},
     "output_type": "execute_result"
    }
   ],
   "source": [
    "test_features['cabin'].sort_values().unique()"
   ]
  },
  {
   "cell_type": "markdown",
   "metadata": {},
   "source": [
    "Let's separate the cabin type and cabin number and create two new  features."
   ]
  },
  {
   "cell_type": "code",
   "execution_count": 307,
   "metadata": {},
   "outputs": [],
   "source": [
    "def split_test_cabin_type(row):\n",
    "    if row:\n",
    "        return re.findall(r'[a-zA-Z]+',str(row))[0]\n",
    "    else:\n",
    "        pass"
   ]
  },
  {
   "cell_type": "code",
   "execution_count": 308,
   "metadata": {},
   "outputs": [],
   "source": [
    "def split_test_cabin_number(row):\n",
    "    if pd.notna(row) and len(row) > 1:\n",
    "        return int(row[1:])\n",
    "    else:\n",
    "        pass"
   ]
  },
  {
   "cell_type": "code",
   "execution_count": 309,
   "metadata": {},
   "outputs": [],
   "source": [
    "train_data['type_cabin'] = train_data['cabin'].apply(lambda str: re.findall(r'[a-zA-Z]+',str)[0])\n",
    "train_data['number_cabin'] = train_data['cabin'].apply(lambda str: int(*(re.findall(\"[-+]?[.]?[\\d]+(?:,\\d\\d\\d)*[\\.]?\\d*(?:[eE][-+]?\\d+)?\",str))))\n",
    "\n",
    "\n",
    "test_features['type_cabin'] = test_features['cabin'].apply(split_test_cabin_type)\n",
    "test_features['number_cabin'] = test_features['cabin'].apply(split_test_cabin_number)"
   ]
  },
  {
   "cell_type": "code",
   "execution_count": 310,
   "metadata": {},
   "outputs": [
    {
     "name": "stdout",
     "output_type": "stream",
     "text": [
      "<class 'pandas.core.frame.DataFrame'>\n",
      "Int64Index: 202 entries, 1 to 889\n",
      "Data columns (total 11 columns):\n",
      " #   Column        Non-Null Count  Dtype  \n",
      "---  ------        --------------  -----  \n",
      " 0   survived      202 non-null    int64  \n",
      " 1   pclass        202 non-null    int64  \n",
      " 2   sex           202 non-null    object \n",
      " 3   age           202 non-null    float64\n",
      " 4   sibsp         202 non-null    int64  \n",
      " 5   parch         202 non-null    int64  \n",
      " 6   fare          202 non-null    float64\n",
      " 7   cabin         202 non-null    object \n",
      " 8   embarked      202 non-null    object \n",
      " 9   type_cabin    202 non-null    object \n",
      " 10  number_cabin  202 non-null    int64  \n",
      "dtypes: float64(2), int64(5), object(4)\n",
      "memory usage: 18.9+ KB\n"
     ]
    }
   ],
   "source": [
    "train_data.info()"
   ]
  },
  {
   "cell_type": "code",
   "execution_count": 311,
   "metadata": {},
   "outputs": [
    {
     "data": {
      "text/plain": [
       "1      C\n",
       "3      C\n",
       "6      E\n",
       "10     G\n",
       "11     C\n",
       "      ..\n",
       "871    D\n",
       "872    B\n",
       "879    C\n",
       "887    B\n",
       "889    C\n",
       "Name: type_cabin, Length: 202, dtype: object"
      ]
     },
     "execution_count": 311,
     "metadata": {},
     "output_type": "execute_result"
    }
   ],
   "source": [
    "train_data['type_cabin']"
   ]
  },
  {
   "cell_type": "code",
   "execution_count": 312,
   "metadata": {},
   "outputs": [
    {
     "data": {
      "text/plain": [
       "1       85\n",
       "3      123\n",
       "6       46\n",
       "10       6\n",
       "11     103\n",
       "      ... \n",
       "871     35\n",
       "872     53\n",
       "879     50\n",
       "887     42\n",
       "889    148\n",
       "Name: number_cabin, Length: 202, dtype: int64"
      ]
     },
     "execution_count": 312,
     "metadata": {},
     "output_type": "execute_result"
    }
   ],
   "source": [
    "train_data['number_cabin']"
   ]
  },
  {
   "cell_type": "code",
   "execution_count": 313,
   "metadata": {},
   "outputs": [
    {
     "data": {
      "text/html": [
       "<div>\n",
       "<style scoped>\n",
       "    .dataframe tbody tr th:only-of-type {\n",
       "        vertical-align: middle;\n",
       "    }\n",
       "\n",
       "    .dataframe tbody tr th {\n",
       "        vertical-align: top;\n",
       "    }\n",
       "\n",
       "    .dataframe thead th {\n",
       "        text-align: right;\n",
       "    }\n",
       "</style>\n",
       "<table border=\"1\" class=\"dataframe\">\n",
       "  <thead>\n",
       "    <tr style=\"text-align: right;\">\n",
       "      <th></th>\n",
       "      <th>survived</th>\n",
       "      <th>pclass</th>\n",
       "      <th>sex</th>\n",
       "      <th>age</th>\n",
       "      <th>sibsp</th>\n",
       "      <th>parch</th>\n",
       "      <th>fare</th>\n",
       "      <th>embarked</th>\n",
       "      <th>type_cabin</th>\n",
       "      <th>number_cabin</th>\n",
       "    </tr>\n",
       "  </thead>\n",
       "  <tbody>\n",
       "    <tr>\n",
       "      <th>1</th>\n",
       "      <td>1</td>\n",
       "      <td>1</td>\n",
       "      <td>female</td>\n",
       "      <td>38.0</td>\n",
       "      <td>1</td>\n",
       "      <td>0</td>\n",
       "      <td>71.2833</td>\n",
       "      <td>C</td>\n",
       "      <td>C</td>\n",
       "      <td>85</td>\n",
       "    </tr>\n",
       "    <tr>\n",
       "      <th>3</th>\n",
       "      <td>1</td>\n",
       "      <td>1</td>\n",
       "      <td>female</td>\n",
       "      <td>35.0</td>\n",
       "      <td>1</td>\n",
       "      <td>0</td>\n",
       "      <td>53.1000</td>\n",
       "      <td>S</td>\n",
       "      <td>C</td>\n",
       "      <td>123</td>\n",
       "    </tr>\n",
       "    <tr>\n",
       "      <th>6</th>\n",
       "      <td>0</td>\n",
       "      <td>1</td>\n",
       "      <td>male</td>\n",
       "      <td>54.0</td>\n",
       "      <td>0</td>\n",
       "      <td>0</td>\n",
       "      <td>51.8625</td>\n",
       "      <td>S</td>\n",
       "      <td>E</td>\n",
       "      <td>46</td>\n",
       "    </tr>\n",
       "    <tr>\n",
       "      <th>10</th>\n",
       "      <td>1</td>\n",
       "      <td>3</td>\n",
       "      <td>female</td>\n",
       "      <td>4.0</td>\n",
       "      <td>1</td>\n",
       "      <td>1</td>\n",
       "      <td>16.7000</td>\n",
       "      <td>S</td>\n",
       "      <td>G</td>\n",
       "      <td>6</td>\n",
       "    </tr>\n",
       "    <tr>\n",
       "      <th>11</th>\n",
       "      <td>1</td>\n",
       "      <td>1</td>\n",
       "      <td>female</td>\n",
       "      <td>58.0</td>\n",
       "      <td>0</td>\n",
       "      <td>0</td>\n",
       "      <td>26.5500</td>\n",
       "      <td>S</td>\n",
       "      <td>C</td>\n",
       "      <td>103</td>\n",
       "    </tr>\n",
       "    <tr>\n",
       "      <th>...</th>\n",
       "      <td>...</td>\n",
       "      <td>...</td>\n",
       "      <td>...</td>\n",
       "      <td>...</td>\n",
       "      <td>...</td>\n",
       "      <td>...</td>\n",
       "      <td>...</td>\n",
       "      <td>...</td>\n",
       "      <td>...</td>\n",
       "      <td>...</td>\n",
       "    </tr>\n",
       "    <tr>\n",
       "      <th>871</th>\n",
       "      <td>1</td>\n",
       "      <td>1</td>\n",
       "      <td>female</td>\n",
       "      <td>47.0</td>\n",
       "      <td>1</td>\n",
       "      <td>1</td>\n",
       "      <td>52.5542</td>\n",
       "      <td>S</td>\n",
       "      <td>D</td>\n",
       "      <td>35</td>\n",
       "    </tr>\n",
       "    <tr>\n",
       "      <th>872</th>\n",
       "      <td>0</td>\n",
       "      <td>1</td>\n",
       "      <td>male</td>\n",
       "      <td>33.0</td>\n",
       "      <td>0</td>\n",
       "      <td>0</td>\n",
       "      <td>5.0000</td>\n",
       "      <td>S</td>\n",
       "      <td>B</td>\n",
       "      <td>53</td>\n",
       "    </tr>\n",
       "    <tr>\n",
       "      <th>879</th>\n",
       "      <td>1</td>\n",
       "      <td>1</td>\n",
       "      <td>female</td>\n",
       "      <td>56.0</td>\n",
       "      <td>0</td>\n",
       "      <td>1</td>\n",
       "      <td>83.1583</td>\n",
       "      <td>C</td>\n",
       "      <td>C</td>\n",
       "      <td>50</td>\n",
       "    </tr>\n",
       "    <tr>\n",
       "      <th>887</th>\n",
       "      <td>1</td>\n",
       "      <td>1</td>\n",
       "      <td>female</td>\n",
       "      <td>19.0</td>\n",
       "      <td>0</td>\n",
       "      <td>0</td>\n",
       "      <td>30.0000</td>\n",
       "      <td>S</td>\n",
       "      <td>B</td>\n",
       "      <td>42</td>\n",
       "    </tr>\n",
       "    <tr>\n",
       "      <th>889</th>\n",
       "      <td>1</td>\n",
       "      <td>1</td>\n",
       "      <td>male</td>\n",
       "      <td>26.0</td>\n",
       "      <td>0</td>\n",
       "      <td>0</td>\n",
       "      <td>30.0000</td>\n",
       "      <td>C</td>\n",
       "      <td>C</td>\n",
       "      <td>148</td>\n",
       "    </tr>\n",
       "  </tbody>\n",
       "</table>\n",
       "<p>202 rows × 10 columns</p>\n",
       "</div>"
      ],
      "text/plain": [
       "     survived  pclass     sex   age  sibsp  parch     fare embarked  \\\n",
       "1           1       1  female  38.0      1      0  71.2833        C   \n",
       "3           1       1  female  35.0      1      0  53.1000        S   \n",
       "6           0       1    male  54.0      0      0  51.8625        S   \n",
       "10          1       3  female   4.0      1      1  16.7000        S   \n",
       "11          1       1  female  58.0      0      0  26.5500        S   \n",
       "..        ...     ...     ...   ...    ...    ...      ...      ...   \n",
       "871         1       1  female  47.0      1      1  52.5542        S   \n",
       "872         0       1    male  33.0      0      0   5.0000        S   \n",
       "879         1       1  female  56.0      0      1  83.1583        C   \n",
       "887         1       1  female  19.0      0      0  30.0000        S   \n",
       "889         1       1    male  26.0      0      0  30.0000        C   \n",
       "\n",
       "    type_cabin  number_cabin  \n",
       "1            C            85  \n",
       "3            C           123  \n",
       "6            E            46  \n",
       "10           G             6  \n",
       "11           C           103  \n",
       "..         ...           ...  \n",
       "871          D            35  \n",
       "872          B            53  \n",
       "879          C            50  \n",
       "887          B            42  \n",
       "889          C           148  \n",
       "\n",
       "[202 rows x 10 columns]"
      ]
     },
     "execution_count": 313,
     "metadata": {},
     "output_type": "execute_result"
    }
   ],
   "source": [
    "train_data = train_data.drop('cabin', axis = 1)\n",
    "train_data"
   ]
  },
  {
   "cell_type": "code",
   "execution_count": 314,
   "metadata": {},
   "outputs": [
    {
     "data": {
      "text/html": [
       "<div>\n",
       "<style scoped>\n",
       "    .dataframe tbody tr th:only-of-type {\n",
       "        vertical-align: middle;\n",
       "    }\n",
       "\n",
       "    .dataframe tbody tr th {\n",
       "        vertical-align: top;\n",
       "    }\n",
       "\n",
       "    .dataframe thead th {\n",
       "        text-align: right;\n",
       "    }\n",
       "</style>\n",
       "<table border=\"1\" class=\"dataframe\">\n",
       "  <thead>\n",
       "    <tr style=\"text-align: right;\">\n",
       "      <th></th>\n",
       "      <th>pclass</th>\n",
       "      <th>sex</th>\n",
       "      <th>age</th>\n",
       "      <th>sibsp</th>\n",
       "      <th>parch</th>\n",
       "      <th>fare</th>\n",
       "      <th>embarked</th>\n",
       "      <th>type_cabin</th>\n",
       "      <th>number_cabin</th>\n",
       "    </tr>\n",
       "  </thead>\n",
       "  <tbody>\n",
       "    <tr>\n",
       "      <th>0</th>\n",
       "      <td>3</td>\n",
       "      <td>male</td>\n",
       "      <td>34.5</td>\n",
       "      <td>0</td>\n",
       "      <td>0</td>\n",
       "      <td>7.8292</td>\n",
       "      <td>Q</td>\n",
       "      <td>nan</td>\n",
       "      <td>NaN</td>\n",
       "    </tr>\n",
       "    <tr>\n",
       "      <th>1</th>\n",
       "      <td>3</td>\n",
       "      <td>female</td>\n",
       "      <td>47.0</td>\n",
       "      <td>1</td>\n",
       "      <td>0</td>\n",
       "      <td>7.0000</td>\n",
       "      <td>S</td>\n",
       "      <td>nan</td>\n",
       "      <td>NaN</td>\n",
       "    </tr>\n",
       "    <tr>\n",
       "      <th>2</th>\n",
       "      <td>2</td>\n",
       "      <td>male</td>\n",
       "      <td>62.0</td>\n",
       "      <td>0</td>\n",
       "      <td>0</td>\n",
       "      <td>9.6875</td>\n",
       "      <td>Q</td>\n",
       "      <td>nan</td>\n",
       "      <td>NaN</td>\n",
       "    </tr>\n",
       "    <tr>\n",
       "      <th>3</th>\n",
       "      <td>3</td>\n",
       "      <td>male</td>\n",
       "      <td>27.0</td>\n",
       "      <td>0</td>\n",
       "      <td>0</td>\n",
       "      <td>8.6625</td>\n",
       "      <td>S</td>\n",
       "      <td>nan</td>\n",
       "      <td>NaN</td>\n",
       "    </tr>\n",
       "    <tr>\n",
       "      <th>4</th>\n",
       "      <td>3</td>\n",
       "      <td>female</td>\n",
       "      <td>22.0</td>\n",
       "      <td>1</td>\n",
       "      <td>1</td>\n",
       "      <td>12.2875</td>\n",
       "      <td>S</td>\n",
       "      <td>nan</td>\n",
       "      <td>NaN</td>\n",
       "    </tr>\n",
       "    <tr>\n",
       "      <th>...</th>\n",
       "      <td>...</td>\n",
       "      <td>...</td>\n",
       "      <td>...</td>\n",
       "      <td>...</td>\n",
       "      <td>...</td>\n",
       "      <td>...</td>\n",
       "      <td>...</td>\n",
       "      <td>...</td>\n",
       "      <td>...</td>\n",
       "    </tr>\n",
       "    <tr>\n",
       "      <th>413</th>\n",
       "      <td>3</td>\n",
       "      <td>male</td>\n",
       "      <td>NaN</td>\n",
       "      <td>0</td>\n",
       "      <td>0</td>\n",
       "      <td>8.0500</td>\n",
       "      <td>S</td>\n",
       "      <td>nan</td>\n",
       "      <td>NaN</td>\n",
       "    </tr>\n",
       "    <tr>\n",
       "      <th>414</th>\n",
       "      <td>1</td>\n",
       "      <td>female</td>\n",
       "      <td>39.0</td>\n",
       "      <td>0</td>\n",
       "      <td>0</td>\n",
       "      <td>108.9000</td>\n",
       "      <td>C</td>\n",
       "      <td>C</td>\n",
       "      <td>105.0</td>\n",
       "    </tr>\n",
       "    <tr>\n",
       "      <th>415</th>\n",
       "      <td>3</td>\n",
       "      <td>male</td>\n",
       "      <td>38.5</td>\n",
       "      <td>0</td>\n",
       "      <td>0</td>\n",
       "      <td>7.2500</td>\n",
       "      <td>S</td>\n",
       "      <td>nan</td>\n",
       "      <td>NaN</td>\n",
       "    </tr>\n",
       "    <tr>\n",
       "      <th>416</th>\n",
       "      <td>3</td>\n",
       "      <td>male</td>\n",
       "      <td>NaN</td>\n",
       "      <td>0</td>\n",
       "      <td>0</td>\n",
       "      <td>8.0500</td>\n",
       "      <td>S</td>\n",
       "      <td>nan</td>\n",
       "      <td>NaN</td>\n",
       "    </tr>\n",
       "    <tr>\n",
       "      <th>417</th>\n",
       "      <td>3</td>\n",
       "      <td>male</td>\n",
       "      <td>NaN</td>\n",
       "      <td>1</td>\n",
       "      <td>1</td>\n",
       "      <td>22.3583</td>\n",
       "      <td>C</td>\n",
       "      <td>nan</td>\n",
       "      <td>NaN</td>\n",
       "    </tr>\n",
       "  </tbody>\n",
       "</table>\n",
       "<p>418 rows × 9 columns</p>\n",
       "</div>"
      ],
      "text/plain": [
       "     pclass     sex   age  sibsp  parch      fare embarked type_cabin  \\\n",
       "0         3    male  34.5      0      0    7.8292        Q        nan   \n",
       "1         3  female  47.0      1      0    7.0000        S        nan   \n",
       "2         2    male  62.0      0      0    9.6875        Q        nan   \n",
       "3         3    male  27.0      0      0    8.6625        S        nan   \n",
       "4         3  female  22.0      1      1   12.2875        S        nan   \n",
       "..      ...     ...   ...    ...    ...       ...      ...        ...   \n",
       "413       3    male   NaN      0      0    8.0500        S        nan   \n",
       "414       1  female  39.0      0      0  108.9000        C          C   \n",
       "415       3    male  38.5      0      0    7.2500        S        nan   \n",
       "416       3    male   NaN      0      0    8.0500        S        nan   \n",
       "417       3    male   NaN      1      1   22.3583        C        nan   \n",
       "\n",
       "     number_cabin  \n",
       "0             NaN  \n",
       "1             NaN  \n",
       "2             NaN  \n",
       "3             NaN  \n",
       "4             NaN  \n",
       "..            ...  \n",
       "413           NaN  \n",
       "414         105.0  \n",
       "415           NaN  \n",
       "416           NaN  \n",
       "417           NaN  \n",
       "\n",
       "[418 rows x 9 columns]"
      ]
     },
     "execution_count": 314,
     "metadata": {},
     "output_type": "execute_result"
    }
   ],
   "source": [
    "test_features = test_features.drop('cabin', axis = 1)\n",
    "test_features"
   ]
  },
  {
   "cell_type": "markdown",
   "metadata": {},
   "source": [
    "**Convert Float to Int and Int to Int**\n",
    "\n",
    "This point in particularly not important, but i wanna say, that you need learn save you RAM."
   ]
  },
  {
   "cell_type": "code",
   "execution_count": 315,
   "metadata": {},
   "outputs": [],
   "source": [
    "train_data[['survived', 'pclass', 'sibsp', 'parch', 'age']] = train_data[['survived', 'pclass', 'sibsp', 'parch', 'age']].astype('int16')\n",
    "test_features[['pclass', 'sibsp', 'parch', 'age']] = pd.notna(test_features[['pclass', 'sibsp', 'parch', 'age']]).astype('int16')"
   ]
  },
  {
   "cell_type": "code",
   "execution_count": 316,
   "metadata": {},
   "outputs": [
    {
     "data": {
      "image/png": "[encoded data removed]",
      "text/plain": [
       "<Figure size 1500x1500 with 9 Axes>"
      ]
     },
     "metadata": {},
     "output_type": "display_data"
    }
   ],
   "source": [
    "train_data.hist(figsize=(15,15));"
   ]
  },
  {
   "cell_type": "code",
   "execution_count": 317,
   "metadata": {},
   "outputs": [
    {
     "name": "stdout",
     "output_type": "stream",
     "text": [
      "---------------------------------\n",
      "| Proportion of missing values. |\n",
      "---------------------------------\n"
     ]
    },
    {
     "data": {
      "text/html": [
       "<style type=\"text/css\">\n",
       "#T_66b31_row0_col0, #T_66b31_row1_col0, #T_66b31_row2_col0, #T_66b31_row3_col0, #T_66b31_row4_col0, #T_66b31_row5_col0, #T_66b31_row6_col0, #T_66b31_row7_col0, #T_66b31_row8_col0, #T_66b31_row9_col0 {\n",
       "  background-color: #3b4cc0;\n",
       "  color: #f1f1f1;\n",
       "}\n",
       "</style>\n",
       "<table id=\"T_66b31\">\n",
       "  <thead>\n",
       "    <tr>\n",
       "      <th class=\"blank level0\" >&nbsp;</th>\n",
       "      <th id=\"T_66b31_level0_col0\" class=\"col_heading level0 col0\" >0</th>\n",
       "    </tr>\n",
       "  </thead>\n",
       "  <tbody>\n",
       "    <tr>\n",
       "      <th id=\"T_66b31_level0_row0\" class=\"row_heading level0 row0\" >survived</th>\n",
       "      <td id=\"T_66b31_row0_col0\" class=\"data row0 col0\" >0.000000</td>\n",
       "    </tr>\n",
       "    <tr>\n",
       "      <th id=\"T_66b31_level0_row1\" class=\"row_heading level0 row1\" >pclass</th>\n",
       "      <td id=\"T_66b31_row1_col0\" class=\"data row1 col0\" >0.000000</td>\n",
       "    </tr>\n",
       "    <tr>\n",
       "      <th id=\"T_66b31_level0_row2\" class=\"row_heading level0 row2\" >sex</th>\n",
       "      <td id=\"T_66b31_row2_col0\" class=\"data row2 col0\" >0.000000</td>\n",
       "    </tr>\n",
       "    <tr>\n",
       "      <th id=\"T_66b31_level0_row3\" class=\"row_heading level0 row3\" >age</th>\n",
       "      <td id=\"T_66b31_row3_col0\" class=\"data row3 col0\" >0.000000</td>\n",
       "    </tr>\n",
       "    <tr>\n",
       "      <th id=\"T_66b31_level0_row4\" class=\"row_heading level0 row4\" >sibsp</th>\n",
       "      <td id=\"T_66b31_row4_col0\" class=\"data row4 col0\" >0.000000</td>\n",
       "    </tr>\n",
       "    <tr>\n",
       "      <th id=\"T_66b31_level0_row5\" class=\"row_heading level0 row5\" >parch</th>\n",
       "      <td id=\"T_66b31_row5_col0\" class=\"data row5 col0\" >0.000000</td>\n",
       "    </tr>\n",
       "    <tr>\n",
       "      <th id=\"T_66b31_level0_row6\" class=\"row_heading level0 row6\" >fare</th>\n",
       "      <td id=\"T_66b31_row6_col0\" class=\"data row6 col0\" >0.000000</td>\n",
       "    </tr>\n",
       "    <tr>\n",
       "      <th id=\"T_66b31_level0_row7\" class=\"row_heading level0 row7\" >embarked</th>\n",
       "      <td id=\"T_66b31_row7_col0\" class=\"data row7 col0\" >0.000000</td>\n",
       "    </tr>\n",
       "    <tr>\n",
       "      <th id=\"T_66b31_level0_row8\" class=\"row_heading level0 row8\" >type_cabin</th>\n",
       "      <td id=\"T_66b31_row8_col0\" class=\"data row8 col0\" >0.000000</td>\n",
       "    </tr>\n",
       "    <tr>\n",
       "      <th id=\"T_66b31_level0_row9\" class=\"row_heading level0 row9\" >number_cabin</th>\n",
       "      <td id=\"T_66b31_row9_col0\" class=\"data row9 col0\" >0.000000</td>\n",
       "    </tr>\n",
       "  </tbody>\n",
       "</table>\n"
      ],
      "text/plain": [
       "<pandas.io.formats.style.Styler at 0x2ac074190>"
      ]
     },
     "execution_count": 317,
     "metadata": {},
     "output_type": "execute_result"
    }
   ],
   "source": [
    "print('---------------------------------')\n",
    "print('| Proportion of missing values. |')\n",
    "print('---------------------------------')\n",
    "pd.DataFrame(round(train_data.isna().mean()*100,1)).style.background_gradient('coolwarm')"
   ]
  },
  {
   "cell_type": "code",
   "execution_count": 318,
   "metadata": {},
   "outputs": [
    {
     "data": {
      "image/png": "[encoded data removed]",
      "text/plain": [
       "<Figure size 1500x1500 with 6 Axes>"
      ]
     },
     "metadata": {},
     "output_type": "display_data"
    }
   ],
   "source": [
    "test_features.hist(figsize=(15,15));"
   ]
  },
  {
   "cell_type": "code",
   "execution_count": 319,
   "metadata": {},
   "outputs": [
    {
     "name": "stdout",
     "output_type": "stream",
     "text": [
      "---------------------------------\n",
      "| Proportion of missing values. |\n",
      "---------------------------------\n"
     ]
    },
    {
     "data": {
      "text/html": [
       "<style type=\"text/css\">\n",
       "#T_c9e27_row0_col0, #T_c9e27_row1_col0, #T_c9e27_row2_col0, #T_c9e27_row3_col0, #T_c9e27_row4_col0, #T_c9e27_row5_col0, #T_c9e27_row6_col0, #T_c9e27_row7_col0 {\n",
       "  background-color: #3b4cc0;\n",
       "  color: #f1f1f1;\n",
       "}\n",
       "#T_c9e27_row8_col0 {\n",
       "  background-color: #b40426;\n",
       "  color: #f1f1f1;\n",
       "}\n",
       "</style>\n",
       "<table id=\"T_c9e27\">\n",
       "  <thead>\n",
       "    <tr>\n",
       "      <th class=\"blank level0\" >&nbsp;</th>\n",
       "      <th id=\"T_c9e27_level0_col0\" class=\"col_heading level0 col0\" >0</th>\n",
       "    </tr>\n",
       "  </thead>\n",
       "  <tbody>\n",
       "    <tr>\n",
       "      <th id=\"T_c9e27_level0_row0\" class=\"row_heading level0 row0\" >pclass</th>\n",
       "      <td id=\"T_c9e27_row0_col0\" class=\"data row0 col0\" >0.000000</td>\n",
       "    </tr>\n",
       "    <tr>\n",
       "      <th id=\"T_c9e27_level0_row1\" class=\"row_heading level0 row1\" >sex</th>\n",
       "      <td id=\"T_c9e27_row1_col0\" class=\"data row1 col0\" >0.000000</td>\n",
       "    </tr>\n",
       "    <tr>\n",
       "      <th id=\"T_c9e27_level0_row2\" class=\"row_heading level0 row2\" >age</th>\n",
       "      <td id=\"T_c9e27_row2_col0\" class=\"data row2 col0\" >0.000000</td>\n",
       "    </tr>\n",
       "    <tr>\n",
       "      <th id=\"T_c9e27_level0_row3\" class=\"row_heading level0 row3\" >sibsp</th>\n",
       "      <td id=\"T_c9e27_row3_col0\" class=\"data row3 col0\" >0.000000</td>\n",
       "    </tr>\n",
       "    <tr>\n",
       "      <th id=\"T_c9e27_level0_row4\" class=\"row_heading level0 row4\" >parch</th>\n",
       "      <td id=\"T_c9e27_row4_col0\" class=\"data row4 col0\" >0.000000</td>\n",
       "    </tr>\n",
       "    <tr>\n",
       "      <th id=\"T_c9e27_level0_row5\" class=\"row_heading level0 row5\" >fare</th>\n",
       "      <td id=\"T_c9e27_row5_col0\" class=\"data row5 col0\" >0.200000</td>\n",
       "    </tr>\n",
       "    <tr>\n",
       "      <th id=\"T_c9e27_level0_row6\" class=\"row_heading level0 row6\" >embarked</th>\n",
       "      <td id=\"T_c9e27_row6_col0\" class=\"data row6 col0\" >0.000000</td>\n",
       "    </tr>\n",
       "    <tr>\n",
       "      <th id=\"T_c9e27_level0_row7\" class=\"row_heading level0 row7\" >type_cabin</th>\n",
       "      <td id=\"T_c9e27_row7_col0\" class=\"data row7 col0\" >0.000000</td>\n",
       "    </tr>\n",
       "    <tr>\n",
       "      <th id=\"T_c9e27_level0_row8\" class=\"row_heading level0 row8\" >number_cabin</th>\n",
       "      <td id=\"T_c9e27_row8_col0\" class=\"data row8 col0\" >78.700000</td>\n",
       "    </tr>\n",
       "  </tbody>\n",
       "</table>\n"
      ],
      "text/plain": [
       "<pandas.io.formats.style.Styler at 0x2a7023ee0>"
      ]
     },
     "execution_count": 319,
     "metadata": {},
     "output_type": "execute_result"
    }
   ],
   "source": [
    "print('---------------------------------')\n",
    "print('| Proportion of missing values. |')\n",
    "print('---------------------------------')\n",
    "pd.DataFrame(round(test_features.isna().mean()*100,1)).style.background_gradient('coolwarm')"
   ]
  },
  {
   "cell_type": "code",
   "execution_count": 320,
   "metadata": {},
   "outputs": [
    {
     "name": "stderr",
     "output_type": "stream",
     "text": [
      "/Users/sergeidolin/anaconda3/envs/ds_practicum_env/lib/python3.9/site-packages/sweetviz/dataframe_report.py:74: FutureWarning: iteritems is deprecated and will be removed in a future version. Use .items instead.\n",
      "  all_source_names = [cur_name for cur_name, cur_series in source_df.iteritems()]\n",
      "/Users/sergeidolin/anaconda3/envs/ds_practicum_env/lib/python3.9/site-packages/sweetviz/dataframe_report.py:109: FutureWarning: iteritems is deprecated and will be removed in a future version. Use .items instead.\n",
      "  filtered_series_names_in_source = [cur_name for cur_name, cur_series in source_df.iteritems()\n"
     ]
    },
    {
     "data": {
      "application/vnd.jupyter.widget-view+json": {
       "model_id": "0f2e0781b33d481fbef02fa5083064b9",
       "version_major": 2,
       "version_minor": 0
      },
      "text/plain": [
       "                                             |          | [  0%]   00:00 -> (? left)"
      ]
     },
     "metadata": {},
     "output_type": "display_data"
    },
    {
     "name": "stderr",
     "output_type": "stream",
     "text": [
      "/Users/sergeidolin/anaconda3/envs/ds_practicum_env/lib/python3.9/site-packages/sweetviz/series_analyzer_cat.py:28: FutureWarning: iteritems is deprecated and will be removed in a future version. Use .items instead.\n",
      "  for item in category_counts.iteritems():\n",
      "/Users/sergeidolin/anaconda3/envs/ds_practicum_env/lib/python3.9/site-packages/sweetviz/series_analyzer_cat.py:28: FutureWarning: iteritems is deprecated and will be removed in a future version. Use .items instead.\n",
      "  for item in category_counts.iteritems():\n",
      "/Users/sergeidolin/anaconda3/envs/ds_practicum_env/lib/python3.9/site-packages/sweetviz/series_analyzer_cat.py:28: FutureWarning: iteritems is deprecated and will be removed in a future version. Use .items instead.\n",
      "  for item in category_counts.iteritems():\n",
      "/Users/sergeidolin/anaconda3/envs/ds_practicum_env/lib/python3.9/site-packages/sweetviz/series_analyzer_numeric.py:25: FutureWarning: The 'mad' method is deprecated and will be removed in a future version. To compute the same result, you may do `(df - df.mean()).abs().mean()`.\n",
      "  stats[\"mad\"] = series.mad()\n",
      "/Users/sergeidolin/anaconda3/envs/ds_practicum_env/lib/python3.9/site-packages/sweetviz/series_analyzer_cat.py:28: FutureWarning: iteritems is deprecated and will be removed in a future version. Use .items instead.\n",
      "  for item in category_counts.iteritems():\n",
      "/Users/sergeidolin/anaconda3/envs/ds_practicum_env/lib/python3.9/site-packages/sweetviz/series_analyzer_cat.py:28: FutureWarning: iteritems is deprecated and will be removed in a future version. Use .items instead.\n",
      "  for item in category_counts.iteritems():\n",
      "/Users/sergeidolin/anaconda3/envs/ds_practicum_env/lib/python3.9/site-packages/sweetviz/series_analyzer_numeric.py:25: FutureWarning: The 'mad' method is deprecated and will be removed in a future version. To compute the same result, you may do `(df - df.mean()).abs().mean()`.\n",
      "  stats[\"mad\"] = series.mad()\n",
      "/Users/sergeidolin/anaconda3/envs/ds_practicum_env/lib/python3.9/site-packages/sweetviz/series_analyzer_cat.py:28: FutureWarning: iteritems is deprecated and will be removed in a future version. Use .items instead.\n",
      "  for item in category_counts.iteritems():\n",
      "/Users/sergeidolin/anaconda3/envs/ds_practicum_env/lib/python3.9/site-packages/sweetviz/series_analyzer_cat.py:28: FutureWarning: iteritems is deprecated and will be removed in a future version. Use .items instead.\n",
      "  for item in category_counts.iteritems():\n",
      "/Users/sergeidolin/anaconda3/envs/ds_practicum_env/lib/python3.9/site-packages/sweetviz/series_analyzer_numeric.py:25: FutureWarning: The 'mad' method is deprecated and will be removed in a future version. To compute the same result, you may do `(df - df.mean()).abs().mean()`.\n",
      "  stats[\"mad\"] = series.mad()\n",
      "/Users/sergeidolin/anaconda3/envs/ds_practicum_env/lib/python3.9/site-packages/sweetviz/dataframe_report.py:74: FutureWarning: iteritems is deprecated and will be removed in a future version. Use .items instead.\n",
      "  all_source_names = [cur_name for cur_name, cur_series in source_df.iteritems()]\n",
      "/Users/sergeidolin/anaconda3/envs/ds_practicum_env/lib/python3.9/site-packages/sweetviz/dataframe_report.py:109: FutureWarning: iteritems is deprecated and will be removed in a future version. Use .items instead.\n",
      "  filtered_series_names_in_source = [cur_name for cur_name, cur_series in source_df.iteritems()\n"
     ]
    },
    {
     "data": {
      "application/vnd.jupyter.widget-view+json": {
       "model_id": "bf6c8d52dde94b339b7d0d67f819907f",
       "version_major": 2,
       "version_minor": 0
      },
      "text/plain": [
       "                                             |          | [  0%]   00:00 -> (? left)"
      ]
     },
     "metadata": {},
     "output_type": "display_data"
    },
    {
     "name": "stderr",
     "output_type": "stream",
     "text": [
      "/Users/sergeidolin/anaconda3/envs/ds_practicum_env/lib/python3.9/site-packages/sweetviz/series_analyzer_cat.py:28: FutureWarning: iteritems is deprecated and will be removed in a future version. Use .items instead.\n",
      "  for item in category_counts.iteritems():\n",
      "/Users/sergeidolin/anaconda3/envs/ds_practicum_env/lib/python3.9/site-packages/sweetviz/series_analyzer_cat.py:28: FutureWarning: iteritems is deprecated and will be removed in a future version. Use .items instead.\n",
      "  for item in category_counts.iteritems():\n",
      "/Users/sergeidolin/anaconda3/envs/ds_practicum_env/lib/python3.9/site-packages/sweetviz/series_analyzer_cat.py:28: FutureWarning: iteritems is deprecated and will be removed in a future version. Use .items instead.\n",
      "  for item in category_counts.iteritems():\n",
      "/Users/sergeidolin/anaconda3/envs/ds_practicum_env/lib/python3.9/site-packages/sweetviz/series_analyzer_cat.py:28: FutureWarning: iteritems is deprecated and will be removed in a future version. Use .items instead.\n",
      "  for item in category_counts.iteritems():\n",
      "/Users/sergeidolin/anaconda3/envs/ds_practicum_env/lib/python3.9/site-packages/sweetviz/series_analyzer_cat.py:28: FutureWarning: iteritems is deprecated and will be removed in a future version. Use .items instead.\n",
      "  for item in category_counts.iteritems():\n",
      "/Users/sergeidolin/anaconda3/envs/ds_practicum_env/lib/python3.9/site-packages/sweetviz/series_analyzer_numeric.py:25: FutureWarning: The 'mad' method is deprecated and will be removed in a future version. To compute the same result, you may do `(df - df.mean()).abs().mean()`.\n",
      "  stats[\"mad\"] = series.mad()\n",
      "/Users/sergeidolin/anaconda3/envs/ds_practicum_env/lib/python3.9/site-packages/sweetviz/series_analyzer_cat.py:28: FutureWarning: iteritems is deprecated and will be removed in a future version. Use .items instead.\n",
      "  for item in category_counts.iteritems():\n",
      "/Users/sergeidolin/anaconda3/envs/ds_practicum_env/lib/python3.9/site-packages/sweetviz/series_analyzer_cat.py:28: FutureWarning: iteritems is deprecated and will be removed in a future version. Use .items instead.\n",
      "  for item in category_counts.iteritems():\n",
      "/Users/sergeidolin/anaconda3/envs/ds_practicum_env/lib/python3.9/site-packages/sweetviz/series_analyzer_numeric.py:25: FutureWarning: The 'mad' method is deprecated and will be removed in a future version. To compute the same result, you may do `(df - df.mean()).abs().mean()`.\n",
      "  stats[\"mad\"] = series.mad()\n"
     ]
    }
   ],
   "source": [
    "train_report = sv.analyze(train_data)\n",
    "test_report = sv.analyze(test_features)"
   ]
  },
  {
   "cell_type": "code",
   "execution_count": 321,
   "metadata": {},
   "outputs": [
    {
     "name": "stdout",
     "output_type": "stream",
     "text": [
      "Report Train_report.html was generated! NOTEBOOK/COLAB USERS: the web browser MAY not pop up, regardless, the report IS saved in your notebook/colab files.\n",
      "Report Test_report.html was generated! NOTEBOOK/COLAB USERS: the web browser MAY not pop up, regardless, the report IS saved in your notebook/colab files.\n"
     ]
    }
   ],
   "source": [
    "train_report.show_html('Train_report.html')\n",
    "test_report.show_html('Test_report.html')"
   ]
  },
  {
   "cell_type": "markdown",
   "metadata": {},
   "source": [
    "# Feature Preparation"
   ]
  },
  {
   "cell_type": "markdown",
   "metadata": {},
   "source": [
    "In this project we are will be use library CatBoost. CatBoost is a machine learning algorithm that uses gradient boosting on decision trees. It is available as an open source library."
   ]
  },
  {
   "cell_type": "code",
   "execution_count": 322,
   "metadata": {},
   "outputs": [],
   "source": [
    "features = train_data.drop('survived', axis = 1)\n",
    "target = train_data['survived']\n",
    "test_target_ml = test_target['Survived'] "
   ]
  },
  {
   "cell_type": "code",
   "execution_count": 323,
   "metadata": {},
   "outputs": [],
   "source": [
    "train_features, validation_features, train_targte, validation_target = \\\n",
    "train_test_split(features, target, train_size=0.75, random_state=0)"
   ]
  },
  {
   "cell_type": "code",
   "execution_count": 324,
   "metadata": {},
   "outputs": [
    {
     "data": {
      "text/plain": [
       "['sex', 'embarked', 'type_cabin']"
      ]
     },
     "execution_count": 324,
     "metadata": {},
     "output_type": "execute_result"
    }
   ],
   "source": [
    "cat_features = ohe_features = features.select_dtypes(include='object').columns.to_list()\n",
    "cat_features"
   ]
  },
  {
   "cell_type": "code",
   "execution_count": 325,
   "metadata": {},
   "outputs": [],
   "source": [
    "model = CatBoostClassifier(\n",
    "    iterations=100,\n",
    "    custom_loss=[metrics.Accuracy()],\n",
    "    random_seed=42\n",
    ")"
   ]
  },
  {
   "cell_type": "code",
   "execution_count": 326,
   "metadata": {},
   "outputs": [
    {
     "data": {
      "application/vnd.jupyter.widget-view+json": {
       "model_id": "054d89ad03034fe2a246136d99165f4b",
       "version_major": 2,
       "version_minor": 0
      },
      "text/plain": [
       "MetricVisualizer(layout=Layout(align_self='stretch', height='500px'))"
      ]
     },
     "metadata": {},
     "output_type": "display_data"
    },
    {
     "name": "stdout",
     "output_type": "stream",
     "text": [
      "Learning rate set to 0.05409\n",
      "0:\tlearn: 0.6839148\ttest: 0.6850590\tbest: 0.6850590 (0)\ttotal: 868us\tremaining: 86ms\n",
      "10:\tlearn: 0.5841976\ttest: 0.6578477\tbest: 0.6578477 (10)\ttotal: 5.78ms\tremaining: 46.7ms\n",
      "20:\tlearn: 0.5231649\ttest: 0.6857969\tbest: 0.6470091 (13)\ttotal: 10.5ms\tremaining: 39.3ms\n",
      "30:\tlearn: 0.4820771\ttest: 0.7208704\tbest: 0.6470091 (13)\ttotal: 18.9ms\tremaining: 42.2ms\n",
      "40:\tlearn: 0.4458831\ttest: 0.7551805\tbest: 0.6470091 (13)\ttotal: 27.8ms\tremaining: 40ms\n",
      "50:\tlearn: 0.4189199\ttest: 0.7738216\tbest: 0.6470091 (13)\ttotal: 35.9ms\tremaining: 34.5ms\n",
      "60:\tlearn: 0.4005008\ttest: 0.7790682\tbest: 0.6470091 (13)\ttotal: 40.6ms\tremaining: 26ms\n",
      "70:\tlearn: 0.3837728\ttest: 0.7912555\tbest: 0.6470091 (13)\ttotal: 45.5ms\tremaining: 18.6ms\n",
      "80:\tlearn: 0.3674747\ttest: 0.7975894\tbest: 0.6470091 (13)\ttotal: 50.2ms\tremaining: 11.8ms\n",
      "90:\tlearn: 0.3521562\ttest: 0.8208553\tbest: 0.6470091 (13)\ttotal: 55.8ms\tremaining: 5.52ms\n",
      "99:\tlearn: 0.3407057\ttest: 0.8283370\tbest: 0.6470091 (13)\ttotal: 59.9ms\tremaining: 0us\n",
      "\n",
      "bestTest = 0.6470091477\n",
      "bestIteration = 13\n",
      "\n",
      "Shrink model to first 14 iterations.\n"
     ]
    }
   ],
   "source": [
    "model.fit(\n",
    "    train_features, train_targte,\n",
    "    cat_features=cat_features,\n",
    "    eval_set=(test_features, test_target_ml),\n",
    "    plot=True,\n",
    "    verbose=10\n",
    ");"
   ]
  },
  {
   "cell_type": "code",
   "execution_count": 327,
   "metadata": {},
   "outputs": [
    {
     "data": {
      "application/vnd.jupyter.widget-view+json": {
       "model_id": "3d22724fc5624d3f8224c10f0e53ee2f",
       "version_major": 2,
       "version_minor": 0
      },
      "text/plain": [
       "MetricVisualizer(layout=Layout(align_self='stretch', height='500px'))"
      ]
     },
     "metadata": {},
     "output_type": "display_data"
    },
    {
     "name": "stdout",
     "output_type": "stream",
     "text": [
      "Training on fold [0/3]\n",
      "0:\tlearn: 0.6682866\ttest: 0.6677755\tbest: 0.6677755 (0)\ttotal: 5.01ms\tremaining: 496ms\n",
      "1:\tlearn: 0.6510270\ttest: 0.6516005\tbest: 0.6516005 (1)\ttotal: 9.55ms\tremaining: 468ms\n",
      "2:\tlearn: 0.6338265\ttest: 0.6350527\tbest: 0.6350527 (2)\ttotal: 13.7ms\tremaining: 442ms\n",
      "3:\tlearn: 0.6142551\ttest: 0.6164441\tbest: 0.6164441 (3)\ttotal: 16.9ms\tremaining: 406ms\n",
      "4:\tlearn: 0.5987477\ttest: 0.6043014\tbest: 0.6043014 (4)\ttotal: 21.4ms\tremaining: 407ms\n",
      "5:\tlearn: 0.5832182\ttest: 0.5898857\tbest: 0.5898857 (5)\ttotal: 24.9ms\tremaining: 391ms\n",
      "6:\tlearn: 0.5707561\ttest: 0.5774918\tbest: 0.5774918 (6)\ttotal: 26.5ms\tremaining: 353ms\n",
      "7:\tlearn: 0.5582177\ttest: 0.5651903\tbest: 0.5651903 (7)\ttotal: 28.6ms\tremaining: 329ms\n",
      "8:\tlearn: 0.5477083\ttest: 0.5558928\tbest: 0.5558928 (8)\ttotal: 29.8ms\tremaining: 301ms\n",
      "9:\tlearn: 0.5385604\ttest: 0.5520485\tbest: 0.5520485 (9)\ttotal: 30.9ms\tremaining: 278ms\n",
      "10:\tlearn: 0.5264554\ttest: 0.5400704\tbest: 0.5400704 (10)\ttotal: 32.8ms\tremaining: 265ms\n",
      "11:\tlearn: 0.5168572\ttest: 0.5326313\tbest: 0.5326313 (11)\ttotal: 34.3ms\tremaining: 251ms\n",
      "12:\tlearn: 0.5088046\ttest: 0.5280312\tbest: 0.5280312 (12)\ttotal: 35.5ms\tremaining: 238ms\n",
      "13:\tlearn: 0.5018352\ttest: 0.5225619\tbest: 0.5225619 (13)\ttotal: 36.7ms\tremaining: 225ms\n",
      "14:\tlearn: 0.4949516\ttest: 0.5157831\tbest: 0.5157831 (14)\ttotal: 37.9ms\tremaining: 215ms\n",
      "15:\tlearn: 0.4854982\ttest: 0.5089586\tbest: 0.5089586 (15)\ttotal: 42.8ms\tremaining: 225ms\n",
      "16:\tlearn: 0.4766478\ttest: 0.5044294\tbest: 0.5044294 (16)\ttotal: 47.2ms\tremaining: 230ms\n",
      "17:\tlearn: 0.4719862\ttest: 0.5018572\tbest: 0.5018572 (17)\ttotal: 50.2ms\tremaining: 229ms\n",
      "18:\tlearn: 0.4660833\ttest: 0.4993956\tbest: 0.4993956 (18)\ttotal: 58.8ms\tremaining: 251ms\n",
      "19:\tlearn: 0.4599400\ttest: 0.4946877\tbest: 0.4946877 (19)\ttotal: 61.5ms\tremaining: 246ms\n",
      "20:\tlearn: 0.4558762\ttest: 0.4922441\tbest: 0.4922441 (20)\ttotal: 62.8ms\tremaining: 236ms\n",
      "21:\tlearn: 0.4511605\ttest: 0.4900979\tbest: 0.4900979 (21)\ttotal: 66.2ms\tremaining: 235ms\n",
      "22:\tlearn: 0.4447622\ttest: 0.4860271\tbest: 0.4860271 (22)\ttotal: 67.5ms\tremaining: 226ms\n",
      "23:\tlearn: 0.4414078\ttest: 0.4870915\tbest: 0.4860271 (22)\ttotal: 68.8ms\tremaining: 218ms\n",
      "24:\tlearn: 0.4365637\ttest: 0.4820404\tbest: 0.4820404 (24)\ttotal: 71.3ms\tremaining: 214ms\n",
      "25:\tlearn: 0.4329499\ttest: 0.4793457\tbest: 0.4793457 (25)\ttotal: 74.4ms\tremaining: 212ms\n",
      "26:\tlearn: 0.4285318\ttest: 0.4783593\tbest: 0.4783593 (26)\ttotal: 77.5ms\tremaining: 209ms\n",
      "27:\tlearn: 0.4252617\ttest: 0.4766296\tbest: 0.4766296 (27)\ttotal: 79.5ms\tremaining: 205ms\n",
      "28:\tlearn: 0.4211831\ttest: 0.4741992\tbest: 0.4741992 (28)\ttotal: 80.8ms\tremaining: 198ms\n",
      "29:\tlearn: 0.4183489\ttest: 0.4721069\tbest: 0.4721069 (29)\ttotal: 82.3ms\tremaining: 192ms\n",
      "30:\tlearn: 0.4165738\ttest: 0.4713585\tbest: 0.4713585 (30)\ttotal: 84.5ms\tremaining: 188ms\n",
      "31:\tlearn: 0.4164402\ttest: 0.4714671\tbest: 0.4713585 (30)\ttotal: 85.4ms\tremaining: 181ms\n",
      "32:\tlearn: 0.4137190\ttest: 0.4713934\tbest: 0.4713585 (30)\ttotal: 86.3ms\tremaining: 175ms\n",
      "33:\tlearn: 0.4121391\ttest: 0.4713855\tbest: 0.4713585 (30)\ttotal: 89.6ms\tremaining: 174ms\n",
      "34:\tlearn: 0.4120366\ttest: 0.4714556\tbest: 0.4713585 (30)\ttotal: 90.1ms\tremaining: 167ms\n",
      "35:\tlearn: 0.4099077\ttest: 0.4712490\tbest: 0.4712490 (35)\ttotal: 91.5ms\tremaining: 163ms\n",
      "36:\tlearn: 0.4062434\ttest: 0.4686183\tbest: 0.4686183 (36)\ttotal: 93.1ms\tremaining: 159ms\n",
      "37:\tlearn: 0.4037762\ttest: 0.4679633\tbest: 0.4679633 (37)\ttotal: 94.4ms\tremaining: 154ms\n",
      "38:\tlearn: 0.4015928\ttest: 0.4674469\tbest: 0.4674469 (38)\ttotal: 96.5ms\tremaining: 151ms\n",
      "39:\tlearn: 0.4000306\ttest: 0.4673614\tbest: 0.4673614 (39)\ttotal: 97.8ms\tremaining: 147ms\n",
      "40:\tlearn: 0.3964729\ttest: 0.4666376\tbest: 0.4666376 (40)\ttotal: 99.8ms\tremaining: 144ms\n",
      "41:\tlearn: 0.3944625\ttest: 0.4675673\tbest: 0.4666376 (40)\ttotal: 101ms\tremaining: 140ms\n",
      "42:\tlearn: 0.3911198\ttest: 0.4661647\tbest: 0.4661647 (42)\ttotal: 102ms\tremaining: 135ms\n",
      "43:\tlearn: 0.3875385\ttest: 0.4649878\tbest: 0.4649878 (43)\ttotal: 104ms\tremaining: 132ms\n",
      "44:\tlearn: 0.3838577\ttest: 0.4623896\tbest: 0.4623896 (44)\ttotal: 107ms\tremaining: 131ms\n",
      "45:\tlearn: 0.3803812\ttest: 0.4614338\tbest: 0.4614338 (45)\ttotal: 108ms\tremaining: 127ms\n",
      "46:\tlearn: 0.3798719\ttest: 0.4615315\tbest: 0.4614338 (45)\ttotal: 110ms\tremaining: 124ms\n",
      "47:\tlearn: 0.3768750\ttest: 0.4589442\tbest: 0.4589442 (47)\ttotal: 111ms\tremaining: 120ms\n",
      "48:\tlearn: 0.3746616\ttest: 0.4591210\tbest: 0.4589442 (47)\ttotal: 112ms\tremaining: 117ms\n",
      "49:\tlearn: 0.3719525\ttest: 0.4595532\tbest: 0.4589442 (47)\ttotal: 114ms\tremaining: 114ms\n",
      "50:\tlearn: 0.3709299\ttest: 0.4587842\tbest: 0.4587842 (50)\ttotal: 115ms\tremaining: 110ms\n",
      "51:\tlearn: 0.3708974\ttest: 0.4589115\tbest: 0.4587842 (50)\ttotal: 115ms\tremaining: 107ms\n",
      "52:\tlearn: 0.3695340\ttest: 0.4597112\tbest: 0.4587842 (50)\ttotal: 117ms\tremaining: 104ms\n",
      "53:\tlearn: 0.3683031\ttest: 0.4599345\tbest: 0.4587842 (50)\ttotal: 121ms\tremaining: 103ms\n",
      "54:\tlearn: 0.3672746\ttest: 0.4601243\tbest: 0.4587842 (50)\ttotal: 123ms\tremaining: 101ms\n",
      "55:\tlearn: 0.3671287\ttest: 0.4602422\tbest: 0.4587842 (50)\ttotal: 124ms\tremaining: 97.4ms\n",
      "56:\tlearn: 0.3646796\ttest: 0.4599561\tbest: 0.4587842 (50)\ttotal: 128ms\tremaining: 96.2ms\n",
      "57:\tlearn: 0.3603183\ttest: 0.4611665\tbest: 0.4587842 (50)\ttotal: 132ms\tremaining: 95.5ms\n",
      "58:\tlearn: 0.3585862\ttest: 0.4612819\tbest: 0.4587842 (50)\ttotal: 139ms\tremaining: 96.8ms\n",
      "59:\tlearn: 0.3581537\ttest: 0.4615530\tbest: 0.4587842 (50)\ttotal: 141ms\tremaining: 94.1ms\n",
      "60:\tlearn: 0.3573082\ttest: 0.4619166\tbest: 0.4587842 (50)\ttotal: 142ms\tremaining: 90.8ms\n",
      "61:\tlearn: 0.3560743\ttest: 0.4615787\tbest: 0.4587842 (50)\ttotal: 143ms\tremaining: 87.7ms\n",
      "62:\tlearn: 0.3533175\ttest: 0.4603653\tbest: 0.4587842 (50)\ttotal: 144ms\tremaining: 84.7ms\n",
      "63:\tlearn: 0.3511181\ttest: 0.4597514\tbest: 0.4587842 (50)\ttotal: 146ms\tremaining: 81.9ms\n",
      "64:\tlearn: 0.3497919\ttest: 0.4593997\tbest: 0.4587842 (50)\ttotal: 147ms\tremaining: 79ms\n",
      "65:\tlearn: 0.3457692\ttest: 0.4566933\tbest: 0.4566933 (65)\ttotal: 148ms\tremaining: 76.1ms\n",
      "66:\tlearn: 0.3446506\ttest: 0.4578749\tbest: 0.4566933 (65)\ttotal: 149ms\tremaining: 73.2ms\n",
      "67:\tlearn: 0.3413280\ttest: 0.4580394\tbest: 0.4566933 (65)\ttotal: 150ms\tremaining: 70.6ms\n",
      "68:\tlearn: 0.3401931\ttest: 0.4581223\tbest: 0.4566933 (65)\ttotal: 152ms\tremaining: 68.2ms\n",
      "69:\tlearn: 0.3392782\ttest: 0.4589263\tbest: 0.4566933 (65)\ttotal: 154ms\tremaining: 65.9ms\n",
      "70:\tlearn: 0.3381761\ttest: 0.4597014\tbest: 0.4566933 (65)\ttotal: 155ms\tremaining: 63.2ms\n",
      "71:\tlearn: 0.3369545\ttest: 0.4601428\tbest: 0.4566933 (65)\ttotal: 156ms\tremaining: 60.7ms\n",
      "72:\tlearn: 0.3333567\ttest: 0.4585083\tbest: 0.4566933 (65)\ttotal: 157ms\tremaining: 58.2ms\n",
      "73:\tlearn: 0.3328275\ttest: 0.4585977\tbest: 0.4566933 (65)\ttotal: 158ms\tremaining: 55.7ms\n",
      "74:\tlearn: 0.3298769\ttest: 0.4581940\tbest: 0.4566933 (65)\ttotal: 160ms\tremaining: 53.2ms\n",
      "75:\tlearn: 0.3279982\ttest: 0.4588992\tbest: 0.4566933 (65)\ttotal: 161ms\tremaining: 50.9ms\n",
      "76:\tlearn: 0.3262098\ttest: 0.4588528\tbest: 0.4566933 (65)\ttotal: 162ms\tremaining: 48.4ms\n",
      "77:\tlearn: 0.3227182\ttest: 0.4588793\tbest: 0.4566933 (65)\ttotal: 163ms\tremaining: 46.1ms\n",
      "78:\tlearn: 0.3221519\ttest: 0.4596846\tbest: 0.4566933 (65)\ttotal: 164ms\tremaining: 43.7ms\n",
      "79:\tlearn: 0.3210703\ttest: 0.4596426\tbest: 0.4566933 (65)\ttotal: 166ms\tremaining: 41.4ms\n",
      "80:\tlearn: 0.3196209\ttest: 0.4599135\tbest: 0.4566933 (65)\ttotal: 167ms\tremaining: 39.2ms\n",
      "81:\tlearn: 0.3161165\ttest: 0.4579505\tbest: 0.4566933 (65)\ttotal: 168ms\tremaining: 37ms\n",
      "82:\tlearn: 0.3146452\ttest: 0.4573702\tbest: 0.4566933 (65)\ttotal: 170ms\tremaining: 34.7ms\n",
      "83:\tlearn: 0.3142245\ttest: 0.4571062\tbest: 0.4566933 (65)\ttotal: 171ms\tremaining: 32.6ms\n",
      "84:\tlearn: 0.3121160\ttest: 0.4573531\tbest: 0.4566933 (65)\ttotal: 173ms\tremaining: 30.4ms\n",
      "85:\tlearn: 0.3109190\ttest: 0.4580849\tbest: 0.4566933 (65)\ttotal: 174ms\tremaining: 28.2ms\n",
      "86:\tlearn: 0.3098204\ttest: 0.4587516\tbest: 0.4566933 (65)\ttotal: 176ms\tremaining: 26.2ms\n",
      "87:\tlearn: 0.3071663\ttest: 0.4585311\tbest: 0.4566933 (65)\ttotal: 177ms\tremaining: 24.2ms\n",
      "88:\tlearn: 0.3067257\ttest: 0.4587488\tbest: 0.4566933 (65)\ttotal: 179ms\tremaining: 22.1ms\n",
      "89:\tlearn: 0.3050142\ttest: 0.4604793\tbest: 0.4566933 (65)\ttotal: 180ms\tremaining: 19.9ms\n",
      "90:\tlearn: 0.3046120\ttest: 0.4605698\tbest: 0.4566933 (65)\ttotal: 180ms\tremaining: 17.8ms\n",
      "91:\tlearn: 0.3033644\ttest: 0.4602924\tbest: 0.4566933 (65)\ttotal: 181ms\tremaining: 15.8ms\n",
      "92:\tlearn: 0.3013155\ttest: 0.4604415\tbest: 0.4566933 (65)\ttotal: 183ms\tremaining: 13.8ms\n",
      "93:\tlearn: 0.2999696\ttest: 0.4602168\tbest: 0.4566933 (65)\ttotal: 184ms\tremaining: 11.8ms\n",
      "94:\tlearn: 0.2984999\ttest: 0.4609123\tbest: 0.4566933 (65)\ttotal: 186ms\tremaining: 9.77ms\n",
      "95:\tlearn: 0.2973703\ttest: 0.4612718\tbest: 0.4566933 (65)\ttotal: 187ms\tremaining: 7.78ms\n",
      "96:\tlearn: 0.2961458\ttest: 0.4599392\tbest: 0.4566933 (65)\ttotal: 190ms\tremaining: 5.88ms\n",
      "97:\tlearn: 0.2957397\ttest: 0.4599802\tbest: 0.4566933 (65)\ttotal: 192ms\tremaining: 3.93ms\n",
      "98:\tlearn: 0.2950965\ttest: 0.4601381\tbest: 0.4566933 (65)\ttotal: 194ms\tremaining: 1.96ms\n",
      "99:\tlearn: 0.2947413\ttest: 0.4597177\tbest: 0.4566933 (65)\ttotal: 194ms\tremaining: 0us\n",
      "\n",
      "bestTest = 0.4566933344\n",
      "bestIteration = 65\n",
      "\n",
      "Training on fold [1/3]\n",
      "0:\tlearn: 0.6750955\ttest: 0.6776598\tbest: 0.6776598 (0)\ttotal: 12.7ms\tremaining: 1.26s\n",
      "1:\tlearn: 0.6588797\ttest: 0.6632443\tbest: 0.6632443 (1)\ttotal: 14.4ms\tremaining: 707ms\n",
      "2:\tlearn: 0.6416127\ttest: 0.6530508\tbest: 0.6530508 (2)\ttotal: 15.8ms\tremaining: 511ms\n",
      "3:\tlearn: 0.6242153\ttest: 0.6412584\tbest: 0.6412584 (3)\ttotal: 17.6ms\tremaining: 421ms\n",
      "4:\tlearn: 0.6072999\ttest: 0.6316884\tbest: 0.6316884 (4)\ttotal: 20.3ms\tremaining: 385ms\n",
      "5:\tlearn: 0.5927093\ttest: 0.6188279\tbest: 0.6188279 (5)\ttotal: 22.2ms\tremaining: 348ms\n",
      "6:\tlearn: 0.5811317\ttest: 0.6082488\tbest: 0.6082488 (6)\ttotal: 25.3ms\tremaining: 336ms\n",
      "7:\tlearn: 0.5708515\ttest: 0.5991998\tbest: 0.5991998 (7)\ttotal: 26.8ms\tremaining: 308ms\n",
      "8:\tlearn: 0.5575778\ttest: 0.5880650\tbest: 0.5880650 (8)\ttotal: 28.4ms\tremaining: 287ms\n",
      "9:\tlearn: 0.5476744\ttest: 0.5796182\tbest: 0.5796182 (9)\ttotal: 29.6ms\tremaining: 266ms\n",
      "10:\tlearn: 0.5367952\ttest: 0.5751755\tbest: 0.5751755 (10)\ttotal: 31.6ms\tremaining: 256ms\n",
      "11:\tlearn: 0.5280870\ttest: 0.5696910\tbest: 0.5696910 (11)\ttotal: 34.8ms\tremaining: 255ms\n",
      "12:\tlearn: 0.5179411\ttest: 0.5641621\tbest: 0.5641621 (12)\ttotal: 37.7ms\tremaining: 252ms\n",
      "13:\tlearn: 0.5074846\ttest: 0.5589735\tbest: 0.5589735 (13)\ttotal: 39.9ms\tremaining: 245ms\n",
      "14:\tlearn: 0.4989742\ttest: 0.5537171\tbest: 0.5537171 (14)\ttotal: 42.6ms\tremaining: 241ms\n",
      "15:\tlearn: 0.4900750\ttest: 0.5490024\tbest: 0.5490024 (15)\ttotal: 45.6ms\tremaining: 240ms\n",
      "16:\tlearn: 0.4826338\ttest: 0.5438866\tbest: 0.5438866 (16)\ttotal: 48.6ms\tremaining: 237ms\n",
      "17:\tlearn: 0.4714573\ttest: 0.5370686\tbest: 0.5370686 (17)\ttotal: 51.5ms\tremaining: 234ms\n",
      "18:\tlearn: 0.4634715\ttest: 0.5334657\tbest: 0.5334657 (18)\ttotal: 54.8ms\tremaining: 234ms\n",
      "19:\tlearn: 0.4585506\ttest: 0.5301262\tbest: 0.5301262 (19)\ttotal: 58.3ms\tremaining: 233ms\n",
      "20:\tlearn: 0.4531106\ttest: 0.5264217\tbest: 0.5264217 (20)\ttotal: 61.2ms\tremaining: 230ms\n",
      "21:\tlearn: 0.4486887\ttest: 0.5267605\tbest: 0.5264217 (20)\ttotal: 63.5ms\tremaining: 225ms\n",
      "22:\tlearn: 0.4414830\ttest: 0.5237292\tbest: 0.5237292 (22)\ttotal: 66ms\tremaining: 221ms\n",
      "23:\tlearn: 0.4360023\ttest: 0.5227190\tbest: 0.5227190 (23)\ttotal: 69.6ms\tremaining: 220ms\n",
      "24:\tlearn: 0.4305635\ttest: 0.5188915\tbest: 0.5188915 (24)\ttotal: 71.1ms\tremaining: 213ms\n",
      "25:\tlearn: 0.4274268\ttest: 0.5171680\tbest: 0.5171680 (25)\ttotal: 73.6ms\tremaining: 210ms\n",
      "26:\tlearn: 0.4225906\ttest: 0.5172041\tbest: 0.5171680 (25)\ttotal: 76.5ms\tremaining: 207ms\n",
      "27:\tlearn: 0.4216591\ttest: 0.5171719\tbest: 0.5171680 (25)\ttotal: 77.6ms\tremaining: 200ms\n",
      "28:\tlearn: 0.4153949\ttest: 0.5147032\tbest: 0.5147032 (28)\ttotal: 79.4ms\tremaining: 194ms\n",
      "29:\tlearn: 0.4104994\ttest: 0.5134458\tbest: 0.5134458 (29)\ttotal: 81.4ms\tremaining: 190ms\n",
      "30:\tlearn: 0.4060884\ttest: 0.5131626\tbest: 0.5131626 (30)\ttotal: 83ms\tremaining: 185ms\n",
      "31:\tlearn: 0.4026926\ttest: 0.5119482\tbest: 0.5119482 (31)\ttotal: 84.3ms\tremaining: 179ms\n",
      "32:\tlearn: 0.3992291\ttest: 0.5123407\tbest: 0.5119482 (31)\ttotal: 87ms\tremaining: 177ms\n",
      "33:\tlearn: 0.3930239\ttest: 0.5122128\tbest: 0.5119482 (31)\ttotal: 88ms\tremaining: 171ms\n",
      "34:\tlearn: 0.3921554\ttest: 0.5113777\tbest: 0.5113777 (34)\ttotal: 88.8ms\tremaining: 165ms\n",
      "35:\tlearn: 0.3901534\ttest: 0.5122209\tbest: 0.5113777 (34)\ttotal: 90.6ms\tremaining: 161ms\n",
      "36:\tlearn: 0.3889333\ttest: 0.5127389\tbest: 0.5113777 (34)\ttotal: 91.8ms\tremaining: 156ms\n",
      "37:\tlearn: 0.3840789\ttest: 0.5105413\tbest: 0.5105413 (37)\ttotal: 93ms\tremaining: 152ms\n",
      "38:\tlearn: 0.3809598\ttest: 0.5097951\tbest: 0.5097951 (38)\ttotal: 94ms\tremaining: 147ms\n",
      "39:\tlearn: 0.3768146\ttest: 0.5099022\tbest: 0.5097951 (38)\ttotal: 96.1ms\tremaining: 144ms\n",
      "40:\tlearn: 0.3736029\ttest: 0.5089962\tbest: 0.5089962 (40)\ttotal: 97.3ms\tremaining: 140ms\n",
      "41:\tlearn: 0.3718012\ttest: 0.5075577\tbest: 0.5075577 (41)\ttotal: 98.2ms\tremaining: 136ms\n",
      "42:\tlearn: 0.3687336\ttest: 0.5052964\tbest: 0.5052964 (42)\ttotal: 99.4ms\tremaining: 132ms\n",
      "43:\tlearn: 0.3648584\ttest: 0.5031910\tbest: 0.5031910 (43)\ttotal: 101ms\tremaining: 128ms\n",
      "44:\tlearn: 0.3633681\ttest: 0.5024870\tbest: 0.5024870 (44)\ttotal: 102ms\tremaining: 125ms\n",
      "45:\tlearn: 0.3631893\ttest: 0.5026809\tbest: 0.5024870 (44)\ttotal: 103ms\tremaining: 121ms\n",
      "46:\tlearn: 0.3607503\ttest: 0.5025637\tbest: 0.5024870 (44)\ttotal: 105ms\tremaining: 118ms\n",
      "47:\tlearn: 0.3597718\ttest: 0.5017207\tbest: 0.5017207 (47)\ttotal: 107ms\tremaining: 116ms\n",
      "48:\tlearn: 0.3573503\ttest: 0.5003493\tbest: 0.5003493 (48)\ttotal: 108ms\tremaining: 113ms\n",
      "49:\tlearn: 0.3538988\ttest: 0.4990554\tbest: 0.4990554 (49)\ttotal: 110ms\tremaining: 110ms\n",
      "50:\tlearn: 0.3500319\ttest: 0.4987224\tbest: 0.4987224 (50)\ttotal: 111ms\tremaining: 106ms\n",
      "51:\tlearn: 0.3487802\ttest: 0.4986779\tbest: 0.4986779 (51)\ttotal: 112ms\tremaining: 103ms\n",
      "52:\tlearn: 0.3476189\ttest: 0.4990546\tbest: 0.4986779 (51)\ttotal: 114ms\tremaining: 101ms\n",
      "53:\tlearn: 0.3463499\ttest: 0.4985011\tbest: 0.4985011 (53)\ttotal: 115ms\tremaining: 97.7ms\n",
      "54:\tlearn: 0.3444259\ttest: 0.4988959\tbest: 0.4985011 (53)\ttotal: 116ms\tremaining: 94.6ms\n",
      "55:\tlearn: 0.3443317\ttest: 0.4987809\tbest: 0.4985011 (53)\ttotal: 117ms\tremaining: 91.6ms\n",
      "56:\tlearn: 0.3419443\ttest: 0.4991082\tbest: 0.4985011 (53)\ttotal: 118ms\tremaining: 89.3ms\n",
      "57:\tlearn: 0.3400638\ttest: 0.4985384\tbest: 0.4985011 (53)\ttotal: 120ms\tremaining: 87ms\n",
      "58:\tlearn: 0.3385213\ttest: 0.4986653\tbest: 0.4985011 (53)\ttotal: 121ms\tremaining: 84.4ms\n",
      "59:\tlearn: 0.3367808\ttest: 0.4973141\tbest: 0.4973141 (59)\ttotal: 123ms\tremaining: 81.7ms\n",
      "60:\tlearn: 0.3354851\ttest: 0.4970100\tbest: 0.4970100 (60)\ttotal: 124ms\tremaining: 79.5ms\n",
      "61:\tlearn: 0.3345818\ttest: 0.4976948\tbest: 0.4970100 (60)\ttotal: 125ms\tremaining: 76.9ms\n",
      "62:\tlearn: 0.3328844\ttest: 0.4978087\tbest: 0.4970100 (60)\ttotal: 127ms\tremaining: 74.5ms\n",
      "63:\tlearn: 0.3281424\ttest: 0.4968940\tbest: 0.4968940 (63)\ttotal: 128ms\tremaining: 72ms\n",
      "64:\tlearn: 0.3262838\ttest: 0.4958557\tbest: 0.4958557 (64)\ttotal: 129ms\tremaining: 69.7ms\n",
      "65:\tlearn: 0.3239073\ttest: 0.4959289\tbest: 0.4958557 (64)\ttotal: 130ms\tremaining: 67.2ms\n",
      "66:\tlearn: 0.3195457\ttest: 0.4952122\tbest: 0.4952122 (66)\ttotal: 134ms\tremaining: 66ms\n",
      "67:\tlearn: 0.3161849\ttest: 0.4950104\tbest: 0.4950104 (67)\ttotal: 136ms\tremaining: 64.1ms\n",
      "68:\tlearn: 0.3144120\ttest: 0.4959685\tbest: 0.4950104 (67)\ttotal: 137ms\tremaining: 61.6ms\n",
      "69:\tlearn: 0.3109408\ttest: 0.4956433\tbest: 0.4950104 (67)\ttotal: 139ms\tremaining: 59.4ms\n",
      "70:\tlearn: 0.3099736\ttest: 0.4957977\tbest: 0.4950104 (67)\ttotal: 140ms\tremaining: 57.1ms\n",
      "71:\tlearn: 0.3088516\ttest: 0.4955087\tbest: 0.4950104 (67)\ttotal: 141ms\tremaining: 54.8ms\n",
      "72:\tlearn: 0.3061325\ttest: 0.4958050\tbest: 0.4950104 (67)\ttotal: 142ms\tremaining: 52.5ms\n",
      "73:\tlearn: 0.3053229\ttest: 0.4967433\tbest: 0.4950104 (67)\ttotal: 143ms\tremaining: 50.3ms\n",
      "74:\tlearn: 0.3025251\ttest: 0.4955647\tbest: 0.4950104 (67)\ttotal: 145ms\tremaining: 48.4ms\n",
      "75:\tlearn: 0.3000513\ttest: 0.4962940\tbest: 0.4950104 (67)\ttotal: 146ms\tremaining: 46.2ms\n",
      "76:\tlearn: 0.2987489\ttest: 0.4957799\tbest: 0.4950104 (67)\ttotal: 147ms\tremaining: 44ms\n",
      "77:\tlearn: 0.2968741\ttest: 0.4960019\tbest: 0.4950104 (67)\ttotal: 149ms\tremaining: 41.9ms\n",
      "78:\tlearn: 0.2966341\ttest: 0.4963021\tbest: 0.4950104 (67)\ttotal: 149ms\tremaining: 39.7ms\n",
      "79:\tlearn: 0.2950254\ttest: 0.4960279\tbest: 0.4950104 (67)\ttotal: 151ms\tremaining: 37.7ms\n",
      "80:\tlearn: 0.2937470\ttest: 0.4961871\tbest: 0.4950104 (67)\ttotal: 152ms\tremaining: 35.6ms\n",
      "81:\tlearn: 0.2923847\ttest: 0.4964651\tbest: 0.4950104 (67)\ttotal: 153ms\tremaining: 33.6ms\n",
      "82:\tlearn: 0.2905767\ttest: 0.4954938\tbest: 0.4950104 (67)\ttotal: 154ms\tremaining: 31.6ms\n",
      "83:\tlearn: 0.2898652\ttest: 0.4955620\tbest: 0.4950104 (67)\ttotal: 156ms\tremaining: 29.7ms\n",
      "84:\tlearn: 0.2889901\ttest: 0.4964421\tbest: 0.4950104 (67)\ttotal: 158ms\tremaining: 27.9ms\n",
      "85:\tlearn: 0.2876633\ttest: 0.4955461\tbest: 0.4950104 (67)\ttotal: 159ms\tremaining: 25.9ms\n",
      "86:\tlearn: 0.2857398\ttest: 0.4950381\tbest: 0.4950104 (67)\ttotal: 161ms\tremaining: 24.1ms\n",
      "87:\tlearn: 0.2833604\ttest: 0.4953015\tbest: 0.4950104 (67)\ttotal: 162ms\tremaining: 22.1ms\n",
      "88:\tlearn: 0.2826701\ttest: 0.4955654\tbest: 0.4950104 (67)\ttotal: 163ms\tremaining: 20.2ms\n",
      "89:\tlearn: 0.2813199\ttest: 0.4952376\tbest: 0.4950104 (67)\ttotal: 164ms\tremaining: 18.2ms\n",
      "90:\tlearn: 0.2807156\ttest: 0.4946872\tbest: 0.4946872 (90)\ttotal: 165ms\tremaining: 16.3ms\n",
      "91:\tlearn: 0.2788021\ttest: 0.4944017\tbest: 0.4944017 (91)\ttotal: 167ms\tremaining: 14.5ms\n",
      "92:\tlearn: 0.2769212\ttest: 0.4959981\tbest: 0.4944017 (91)\ttotal: 171ms\tremaining: 12.9ms\n",
      "93:\tlearn: 0.2764301\ttest: 0.4955387\tbest: 0.4944017 (91)\ttotal: 179ms\tremaining: 11.4ms\n",
      "94:\tlearn: 0.2749738\ttest: 0.4948961\tbest: 0.4944017 (91)\ttotal: 182ms\tremaining: 9.58ms\n",
      "95:\tlearn: 0.2727881\ttest: 0.4947902\tbest: 0.4944017 (91)\ttotal: 184ms\tremaining: 7.65ms\n",
      "96:\tlearn: 0.2712613\ttest: 0.4940207\tbest: 0.4940207 (96)\ttotal: 185ms\tremaining: 5.73ms\n",
      "97:\tlearn: 0.2698448\ttest: 0.4948961\tbest: 0.4940207 (96)\ttotal: 186ms\tremaining: 3.8ms\n",
      "98:\tlearn: 0.2685018\ttest: 0.4940575\tbest: 0.4940207 (96)\ttotal: 188ms\tremaining: 1.9ms\n",
      "99:\tlearn: 0.2670539\ttest: 0.4949922\tbest: 0.4940207 (96)\ttotal: 190ms\tremaining: 0us\n",
      "\n",
      "bestTest = 0.4940206974\n",
      "bestIteration = 96\n",
      "\n",
      "Training on fold [2/3]\n",
      "0:\tlearn: 0.6720298\ttest: 0.6779733\tbest: 0.6779733 (0)\ttotal: 13.7ms\tremaining: 1.35s\n",
      "1:\tlearn: 0.6517053\ttest: 0.6621941\tbest: 0.6621941 (1)\ttotal: 16ms\tremaining: 784ms\n",
      "2:\tlearn: 0.6354127\ttest: 0.6494164\tbest: 0.6494164 (2)\ttotal: 19.2ms\tremaining: 622ms\n",
      "3:\tlearn: 0.6215403\ttest: 0.6361694\tbest: 0.6361694 (3)\ttotal: 20.6ms\tremaining: 495ms\n",
      "4:\tlearn: 0.6099608\ttest: 0.6237401\tbest: 0.6237401 (4)\ttotal: 21.5ms\tremaining: 408ms\n",
      "5:\tlearn: 0.5960455\ttest: 0.6097323\tbest: 0.6097323 (5)\ttotal: 22.3ms\tremaining: 349ms\n",
      "6:\tlearn: 0.5850193\ttest: 0.6010974\tbest: 0.6010974 (6)\ttotal: 23.9ms\tremaining: 317ms\n",
      "7:\tlearn: 0.5833859\ttest: 0.5992592\tbest: 0.5992592 (7)\ttotal: 24.6ms\tremaining: 283ms\n",
      "8:\tlearn: 0.5701131\ttest: 0.5888011\tbest: 0.5888011 (8)\ttotal: 25.8ms\tremaining: 261ms\n",
      "9:\tlearn: 0.5613920\ttest: 0.5793915\tbest: 0.5793915 (9)\ttotal: 26.8ms\tremaining: 241ms\n",
      "10:\tlearn: 0.5532395\ttest: 0.5697612\tbest: 0.5697612 (10)\ttotal: 28.1ms\tremaining: 227ms\n",
      "11:\tlearn: 0.5416336\ttest: 0.5644944\tbest: 0.5644944 (11)\ttotal: 29ms\tremaining: 213ms\n",
      "12:\tlearn: 0.5277664\ttest: 0.5559684\tbest: 0.5559684 (12)\ttotal: 30.4ms\tremaining: 203ms\n",
      "13:\tlearn: 0.5173082\ttest: 0.5458021\tbest: 0.5458021 (13)\ttotal: 31.7ms\tremaining: 195ms\n",
      "14:\tlearn: 0.5083352\ttest: 0.5355350\tbest: 0.5355350 (14)\ttotal: 32.6ms\tremaining: 185ms\n",
      "15:\tlearn: 0.4986072\ttest: 0.5264534\tbest: 0.5264534 (15)\ttotal: 33.8ms\tremaining: 177ms\n",
      "16:\tlearn: 0.4929142\ttest: 0.5242920\tbest: 0.5242920 (16)\ttotal: 35.1ms\tremaining: 171ms\n",
      "17:\tlearn: 0.4857028\ttest: 0.5172521\tbest: 0.5172521 (17)\ttotal: 36.7ms\tremaining: 167ms\n",
      "18:\tlearn: 0.4805894\ttest: 0.5117600\tbest: 0.5117600 (18)\ttotal: 37.7ms\tremaining: 161ms\n",
      "19:\tlearn: 0.4725907\ttest: 0.5061103\tbest: 0.5061103 (19)\ttotal: 38.7ms\tremaining: 155ms\n",
      "20:\tlearn: 0.4646789\ttest: 0.4975419\tbest: 0.4975419 (20)\ttotal: 40.9ms\tremaining: 154ms\n",
      "21:\tlearn: 0.4563733\ttest: 0.4920466\tbest: 0.4920466 (21)\ttotal: 42.2ms\tremaining: 150ms\n",
      "22:\tlearn: 0.4473831\ttest: 0.4846636\tbest: 0.4846636 (22)\ttotal: 43.6ms\tremaining: 146ms\n",
      "23:\tlearn: 0.4441899\ttest: 0.4834305\tbest: 0.4834305 (23)\ttotal: 44.6ms\tremaining: 141ms\n",
      "24:\tlearn: 0.4394721\ttest: 0.4798097\tbest: 0.4798097 (24)\ttotal: 45.5ms\tremaining: 137ms\n",
      "25:\tlearn: 0.4342044\ttest: 0.4761964\tbest: 0.4761964 (25)\ttotal: 46.7ms\tremaining: 133ms\n",
      "26:\tlearn: 0.4285967\ttest: 0.4746985\tbest: 0.4746985 (26)\ttotal: 47.5ms\tremaining: 129ms\n",
      "27:\tlearn: 0.4244303\ttest: 0.4704501\tbest: 0.4704501 (27)\ttotal: 48.7ms\tremaining: 125ms\n",
      "28:\tlearn: 0.4174683\ttest: 0.4654697\tbest: 0.4654697 (28)\ttotal: 50.1ms\tremaining: 123ms\n",
      "29:\tlearn: 0.4135999\ttest: 0.4626799\tbest: 0.4626799 (29)\ttotal: 51.5ms\tremaining: 120ms\n",
      "30:\tlearn: 0.4098726\ttest: 0.4614408\tbest: 0.4614408 (30)\ttotal: 52.8ms\tremaining: 117ms\n",
      "31:\tlearn: 0.4081888\ttest: 0.4587287\tbest: 0.4587287 (31)\ttotal: 53.7ms\tremaining: 114ms\n",
      "32:\tlearn: 0.4032778\ttest: 0.4562533\tbest: 0.4562533 (32)\ttotal: 54.8ms\tremaining: 111ms\n",
      "33:\tlearn: 0.3983372\ttest: 0.4539964\tbest: 0.4539964 (33)\ttotal: 56ms\tremaining: 109ms\n",
      "34:\tlearn: 0.3933503\ttest: 0.4503645\tbest: 0.4503645 (34)\ttotal: 57.4ms\tremaining: 107ms\n",
      "35:\tlearn: 0.3882155\ttest: 0.4486327\tbest: 0.4486327 (35)\ttotal: 58.7ms\tremaining: 104ms\n",
      "36:\tlearn: 0.3843694\ttest: 0.4448069\tbest: 0.4448069 (36)\ttotal: 60.3ms\tremaining: 103ms\n",
      "37:\tlearn: 0.3819295\ttest: 0.4431385\tbest: 0.4431385 (37)\ttotal: 62.1ms\tremaining: 101ms\n",
      "38:\tlearn: 0.3787750\ttest: 0.4405747\tbest: 0.4405747 (38)\ttotal: 63.1ms\tremaining: 98.6ms\n",
      "39:\tlearn: 0.3747756\ttest: 0.4402957\tbest: 0.4402957 (39)\ttotal: 64.4ms\tremaining: 96.6ms\n",
      "40:\tlearn: 0.3717196\ttest: 0.4374071\tbest: 0.4374071 (40)\ttotal: 65.6ms\tremaining: 94.4ms\n",
      "41:\tlearn: 0.3684473\ttest: 0.4365040\tbest: 0.4365040 (41)\ttotal: 66.7ms\tremaining: 92.1ms\n",
      "42:\tlearn: 0.3631811\ttest: 0.4355274\tbest: 0.4355274 (42)\ttotal: 68.4ms\tremaining: 90.7ms\n",
      "43:\tlearn: 0.3597700\ttest: 0.4337375\tbest: 0.4337375 (43)\ttotal: 69.4ms\tremaining: 88.3ms\n",
      "44:\tlearn: 0.3564799\ttest: 0.4338768\tbest: 0.4337375 (43)\ttotal: 70.3ms\tremaining: 86ms\n",
      "45:\tlearn: 0.3524518\ttest: 0.4307958\tbest: 0.4307958 (45)\ttotal: 71.5ms\tremaining: 83.9ms\n",
      "46:\tlearn: 0.3496087\ttest: 0.4301241\tbest: 0.4301241 (46)\ttotal: 72.8ms\tremaining: 82.1ms\n",
      "47:\tlearn: 0.3455041\ttest: 0.4289287\tbest: 0.4289287 (47)\ttotal: 74ms\tremaining: 80.1ms\n",
      "48:\tlearn: 0.3434856\ttest: 0.4292758\tbest: 0.4289287 (47)\ttotal: 75.1ms\tremaining: 78.2ms\n",
      "49:\tlearn: 0.3401198\ttest: 0.4276685\tbest: 0.4276685 (49)\ttotal: 76.6ms\tremaining: 76.6ms\n",
      "50:\tlearn: 0.3398842\ttest: 0.4274340\tbest: 0.4274340 (50)\ttotal: 77.5ms\tremaining: 74.5ms\n",
      "51:\tlearn: 0.3382991\ttest: 0.4261599\tbest: 0.4261599 (51)\ttotal: 78.4ms\tremaining: 72.3ms\n",
      "52:\tlearn: 0.3353078\ttest: 0.4251655\tbest: 0.4251655 (52)\ttotal: 79.6ms\tremaining: 70.6ms\n",
      "53:\tlearn: 0.3324043\ttest: 0.4250258\tbest: 0.4250258 (53)\ttotal: 80.9ms\tremaining: 68.9ms\n",
      "54:\tlearn: 0.3316178\ttest: 0.4250979\tbest: 0.4250258 (53)\ttotal: 82ms\tremaining: 67.1ms\n",
      "55:\tlearn: 0.3310467\ttest: 0.4242413\tbest: 0.4242413 (55)\ttotal: 82.8ms\tremaining: 65.1ms\n",
      "56:\tlearn: 0.3270837\ttest: 0.4234334\tbest: 0.4234334 (56)\ttotal: 83.9ms\tremaining: 63.3ms\n",
      "57:\tlearn: 0.3242894\ttest: 0.4238702\tbest: 0.4234334 (56)\ttotal: 85.3ms\tremaining: 61.8ms\n",
      "58:\tlearn: 0.3213441\ttest: 0.4244702\tbest: 0.4234334 (56)\ttotal: 86.8ms\tremaining: 60.3ms\n",
      "59:\tlearn: 0.3153569\ttest: 0.4241640\tbest: 0.4234334 (56)\ttotal: 88.1ms\tremaining: 58.7ms\n",
      "60:\tlearn: 0.3137276\ttest: 0.4235555\tbest: 0.4234334 (56)\ttotal: 89.3ms\tremaining: 57.1ms\n",
      "61:\tlearn: 0.3108373\ttest: 0.4238983\tbest: 0.4234334 (56)\ttotal: 90.3ms\tremaining: 55.3ms\n",
      "62:\tlearn: 0.3095517\ttest: 0.4234577\tbest: 0.4234334 (56)\ttotal: 91.4ms\tremaining: 53.7ms\n",
      "63:\tlearn: 0.3077994\ttest: 0.4234453\tbest: 0.4234334 (56)\ttotal: 92.4ms\tremaining: 52ms\n",
      "64:\tlearn: 0.3049983\ttest: 0.4247423\tbest: 0.4234334 (56)\ttotal: 93.8ms\tremaining: 50.5ms\n",
      "65:\tlearn: 0.3031057\ttest: 0.4233025\tbest: 0.4233025 (65)\ttotal: 94.9ms\tremaining: 48.9ms\n",
      "66:\tlearn: 0.3004112\ttest: 0.4241319\tbest: 0.4233025 (65)\ttotal: 96.1ms\tremaining: 47.3ms\n",
      "67:\tlearn: 0.2980635\ttest: 0.4228750\tbest: 0.4228750 (67)\ttotal: 97.5ms\tremaining: 45.9ms\n",
      "68:\tlearn: 0.2969472\ttest: 0.4221844\tbest: 0.4221844 (68)\ttotal: 98.8ms\tremaining: 44.4ms\n",
      "69:\tlearn: 0.2953463\ttest: 0.4214596\tbest: 0.4214596 (69)\ttotal: 100ms\tremaining: 42.9ms\n",
      "70:\tlearn: 0.2929247\ttest: 0.4198722\tbest: 0.4198722 (70)\ttotal: 101ms\tremaining: 41.3ms\n",
      "71:\tlearn: 0.2890770\ttest: 0.4173787\tbest: 0.4173787 (71)\ttotal: 102ms\tremaining: 39.7ms\n",
      "72:\tlearn: 0.2864537\ttest: 0.4160548\tbest: 0.4160548 (72)\ttotal: 103ms\tremaining: 38.1ms\n",
      "73:\tlearn: 0.2848334\ttest: 0.4157579\tbest: 0.4157579 (73)\ttotal: 104ms\tremaining: 36.6ms\n",
      "74:\tlearn: 0.2832780\ttest: 0.4163816\tbest: 0.4157579 (73)\ttotal: 107ms\tremaining: 35.5ms\n",
      "75:\tlearn: 0.2815683\ttest: 0.4161634\tbest: 0.4157579 (73)\ttotal: 108ms\tremaining: 34ms\n",
      "76:\tlearn: 0.2793578\ttest: 0.4157001\tbest: 0.4157001 (76)\ttotal: 109ms\tremaining: 32.5ms\n",
      "77:\tlearn: 0.2772096\ttest: 0.4168227\tbest: 0.4157001 (76)\ttotal: 112ms\tremaining: 31.5ms\n",
      "78:\tlearn: 0.2760738\ttest: 0.4168416\tbest: 0.4157001 (76)\ttotal: 114ms\tremaining: 30.3ms\n",
      "79:\tlearn: 0.2724845\ttest: 0.4162199\tbest: 0.4157001 (76)\ttotal: 116ms\tremaining: 28.9ms\n",
      "80:\tlearn: 0.2724797\ttest: 0.4162668\tbest: 0.4157001 (76)\ttotal: 117ms\tremaining: 27.4ms\n",
      "81:\tlearn: 0.2711118\ttest: 0.4157829\tbest: 0.4157001 (76)\ttotal: 119ms\tremaining: 26.2ms\n",
      "82:\tlearn: 0.2690386\ttest: 0.4167797\tbest: 0.4157001 (76)\ttotal: 120ms\tremaining: 24.7ms\n",
      "83:\tlearn: 0.2687709\ttest: 0.4168517\tbest: 0.4157001 (76)\ttotal: 121ms\tremaining: 23.1ms\n",
      "84:\tlearn: 0.2660982\ttest: 0.4173780\tbest: 0.4157001 (76)\ttotal: 123ms\tremaining: 21.7ms\n",
      "85:\tlearn: 0.2645473\ttest: 0.4154812\tbest: 0.4154812 (85)\ttotal: 124ms\tremaining: 20.2ms\n",
      "86:\tlearn: 0.2621798\ttest: 0.4144210\tbest: 0.4144210 (86)\ttotal: 125ms\tremaining: 18.7ms\n",
      "87:\tlearn: 0.2599657\ttest: 0.4144561\tbest: 0.4144210 (86)\ttotal: 126ms\tremaining: 17.2ms\n",
      "88:\tlearn: 0.2589961\ttest: 0.4133583\tbest: 0.4133583 (88)\ttotal: 128ms\tremaining: 15.8ms\n",
      "89:\tlearn: 0.2579238\ttest: 0.4132809\tbest: 0.4132809 (89)\ttotal: 133ms\tremaining: 14.7ms\n",
      "90:\tlearn: 0.2573150\ttest: 0.4134777\tbest: 0.4132809 (89)\ttotal: 134ms\tremaining: 13.2ms\n",
      "91:\tlearn: 0.2536880\ttest: 0.4146411\tbest: 0.4132809 (89)\ttotal: 135ms\tremaining: 11.7ms\n",
      "92:\tlearn: 0.2513831\ttest: 0.4143474\tbest: 0.4132809 (89)\ttotal: 136ms\tremaining: 10.2ms\n",
      "93:\tlearn: 0.2503864\ttest: 0.4148893\tbest: 0.4132809 (89)\ttotal: 137ms\tremaining: 8.75ms\n",
      "94:\tlearn: 0.2480432\ttest: 0.4140906\tbest: 0.4132809 (89)\ttotal: 138ms\tremaining: 7.28ms\n",
      "95:\tlearn: 0.2480432\ttest: 0.4140913\tbest: 0.4132809 (89)\ttotal: 139ms\tremaining: 5.78ms\n",
      "96:\tlearn: 0.2465109\ttest: 0.4128102\tbest: 0.4128102 (96)\ttotal: 140ms\tremaining: 4.32ms\n",
      "97:\tlearn: 0.2447010\ttest: 0.4111795\tbest: 0.4111795 (97)\ttotal: 141ms\tremaining: 2.88ms\n",
      "98:\tlearn: 0.2436927\ttest: 0.4110512\tbest: 0.4110512 (98)\ttotal: 143ms\tremaining: 1.44ms\n",
      "99:\tlearn: 0.2429551\ttest: 0.4110976\tbest: 0.4110512 (98)\ttotal: 144ms\tremaining: 0us\n",
      "\n",
      "bestTest = 0.4110511902\n",
      "bestIteration = 98\n",
      "\n"
     ]
    }
   ],
   "source": [
    "cv_params = model.get_params()\n",
    "cv_params.update({\n",
    "    'loss_function': metrics.Logloss()\n",
    "})\n",
    "cv_data = cv(\n",
    "    Pool(features, target, cat_features=cat_features),\n",
    "    cv_params,\n",
    "    plot=True\n",
    ")"
   ]
  },
  {
   "cell_type": "code",
   "execution_count": 328,
   "metadata": {},
   "outputs": [
    {
     "name": "stdout",
     "output_type": "stream",
     "text": [
      "Best validation accuracy score: 0.77±0.04 on step 48\n"
     ]
    }
   ],
   "source": [
    "print('Best validation accuracy score: {:.2f}±{:.2f} on step {}'.format(\n",
    "    np.max(cv_data['test-Accuracy-mean']),\n",
    "    cv_data['test-Accuracy-std'][np.argmax(cv_data['test-Accuracy-mean'])],\n",
    "    np.argmax(cv_data['test-Accuracy-mean'])\n",
    "))"
   ]
  },
  {
   "cell_type": "code",
   "execution_count": 329,
   "metadata": {},
   "outputs": [
    {
     "name": "stdout",
     "output_type": "stream",
     "text": [
      "Precise validation accuracy score: 0.7722816399286988\n"
     ]
    }
   ],
   "source": [
    "print('Precise validation accuracy score: {}'.format(np.max(cv_data['test-Accuracy-mean'])))"
   ]
  },
  {
   "cell_type": "code",
   "execution_count": 330,
   "metadata": {},
   "outputs": [
    {
     "name": "stdout",
     "output_type": "stream",
     "text": [
      "[1 1 1 1 1 1 1 1 1 1]\n",
      "[[0.48394921 0.51605079]\n",
      " [0.40669164 0.59330836]\n",
      " [0.48394921 0.51605079]\n",
      " [0.48394921 0.51605079]\n",
      " [0.39273022 0.60726978]\n",
      " [0.48394921 0.51605079]\n",
      " [0.40669164 0.59330836]\n",
      " [0.45932925 0.54067075]\n",
      " [0.40669164 0.59330836]\n",
      " [0.46784907 0.53215093]]\n"
     ]
    }
   ],
   "source": [
    "predictions = model.predict(test_features)\n",
    "predictions_probs = model.predict_proba(test_features)\n",
    "print(predictions[:10])\n",
    "print(predictions_probs[:10])"
   ]
  },
  {
   "cell_type": "code",
   "execution_count": 331,
   "metadata": {},
   "outputs": [],
   "source": [
    "params = {\n",
    "    'iterations': 500,\n",
    "    'learning_rate': 0.1,\n",
    "    'eval_metric': metrics.Accuracy(),\n",
    "    'random_seed': 42,\n",
    "    'logging_level': 'Silent',\n",
    "    'use_best_model': False\n",
    "}\n",
    "train_pool = Pool(features, target, cat_features=cat_features)\n",
    "validate_pool = Pool(test_features, test_target_ml, cat_features=cat_features)"
   ]
  },
  {
   "cell_type": "code",
   "execution_count": 332,
   "metadata": {},
   "outputs": [
    {
     "name": "stdout",
     "output_type": "stream",
     "text": [
      "Simple model validation accuracy: 0.3158\n",
      "\n",
      "Best model validation accuracy: 0.4785\n"
     ]
    }
   ],
   "source": [
    "model = CatBoostClassifier(**params)\n",
    "model.fit(train_pool, eval_set=validate_pool)\n",
    "\n",
    "best_model_params = params.copy()\n",
    "best_model_params.update({\n",
    "    'use_best_model': True\n",
    "})\n",
    "best_model = CatBoostClassifier(**best_model_params)\n",
    "best_model.fit(train_pool, eval_set=validate_pool);\n",
    "\n",
    "print('Simple model validation accuracy: {:.4}'.format(\n",
    "    accuracy_score(test_target_ml, model.predict(test_features))\n",
    "))\n",
    "print('')\n",
    "\n",
    "print('Best model validation accuracy: {:.4}'.format(\n",
    "    accuracy_score(test_target_ml, best_model.predict(test_features))\n",
    "))"
   ]
  },
  {
   "cell_type": "code",
   "execution_count": 333,
   "metadata": {},
   "outputs": [
    {
     "name": "stdout",
     "output_type": "stream",
     "text": [
      "CPU times: user 1.02 s, sys: 1.03 s, total: 2.05 s\n",
      "Wall time: 477 ms\n"
     ]
    },
    {
     "data": {
      "text/plain": [
       "<catboost.core.CatBoostClassifier at 0x2a5c0fc40>"
      ]
     },
     "execution_count": 333,
     "metadata": {},
     "output_type": "execute_result"
    }
   ],
   "source": [
    "%%time\n",
    "model = CatBoostClassifier(**params)\n",
    "model.fit(train_pool, eval_set=validate_pool)"
   ]
  },
  {
   "cell_type": "code",
   "execution_count": 334,
   "metadata": {},
   "outputs": [
    {
     "name": "stdout",
     "output_type": "stream",
     "text": [
      "CPU times: user 84.1 ms, sys: 85.1 ms, total: 169 ms\n",
      "Wall time: 41.8 ms\n"
     ]
    }
   ],
   "source": [
    "%%time\n",
    "earlystop_params = params.copy()\n",
    "earlystop_params.update({\n",
    "    'od_type': 'Iter',\n",
    "    'od_wait': 40\n",
    "})\n",
    "earlystop_model = CatBoostClassifier(**earlystop_params)\n",
    "earlystop_model.fit(train_pool, eval_set=validate_pool);"
   ]
  },
  {
   "cell_type": "code",
   "execution_count": 335,
   "metadata": {},
   "outputs": [
    {
     "name": "stdout",
     "output_type": "stream",
     "text": [
      "Simple model tree count: 500\n",
      "Simple model validation accuracy: 0.3158\n",
      "\n",
      "Early-stopped model tree count: 46\n",
      "Early-stopped model validation accuracy: 0.3636\n"
     ]
    }
   ],
   "source": [
    "print('Simple model tree count: {}'.format(model.tree_count_))\n",
    "print('Simple model validation accuracy: {:.4}'.format(\n",
    "    accuracy_score(test_target_ml, model.predict(test_features))\n",
    "))\n",
    "print('')\n",
    "\n",
    "print('Early-stopped model tree count: {}'.format(earlystop_model.tree_count_))\n",
    "print('Early-stopped model validation accuracy: {:.4}'.format(\n",
    "    accuracy_score(test_target_ml, earlystop_model.predict(test_features))\n",
    "))"
   ]
  },
  {
   "cell_type": "code",
   "execution_count": 336,
   "metadata": {},
   "outputs": [],
   "source": [
    "current_params = params.copy()\n",
    "current_params.update({\n",
    "    'iterations': 10\n",
    "})\n",
    "model = CatBoostClassifier(**current_params).fit(features, target, cat_features)\n",
    "# Get baseline (only with prediction_type='RawFormulaVal')\n",
    "baseline = model.predict(features, prediction_type='RawFormulaVal')\n",
    "# Fit new model\n",
    "model.fit(features, target, cat_features, baseline=baseline);"
   ]
  },
  {
   "cell_type": "code",
   "execution_count": 338,
   "metadata": {},
   "outputs": [
    {
     "name": "stdout",
     "output_type": "stream",
     "text": [
      "First class probabilities using the first 3 trees: [0.48176108 0.62861785 0.48176108 0.48176108 0.62861785]\n",
      "First class probabilities using the first 5 trees: [0.51976792 0.62861785 0.53092172 0.51976792 0.63899942]\n",
      "First class probabilities using the first 7 trees: [0.53907858 0.60851078 0.55017203 0.53907858 0.61911385]\n"
     ]
    }
   ],
   "source": [
    "model = CatBoostClassifier(iterations=10, random_seed=42, logging_level='Silent').fit(train_pool)\n",
    "ntree_start, ntree_end, eval_period = 3, 9, 2\n",
    "predictions_iterator = model.staged_predict(validate_pool, 'Probability', ntree_start, ntree_end, eval_period)\n",
    "for preds, tree_count in zip(predictions_iterator, range(ntree_start, ntree_end, eval_period)):\n",
    "    print('First class probabilities using the first {} trees: {}'.format(tree_count, preds[:5, 1]))"
   ]
  },
  {
   "cell_type": "code",
   "execution_count": 339,
   "metadata": {},
   "outputs": [
    {
     "name": "stdout",
     "output_type": "stream",
     "text": [
      "sex: 71.28748606991384\n",
      "age: 12.634230324607028\n",
      "fare: 5.641719055974067\n",
      "number_cabin: 2.9712233543164515\n",
      "type_cabin: 2.8311955512260867\n",
      "parch: 1.6053913126656547\n",
      "sibsp: 1.3493087066547935\n",
      "pclass: 1.2493747744098778\n",
      "embarked: 0.43007085023221087\n"
     ]
    }
   ],
   "source": [
    "model = CatBoostClassifier(iterations=50, random_seed=42, logging_level='Silent').fit(train_pool)\n",
    "feature_importances = model.get_feature_importance(train_pool)\n",
    "feature_names = features.columns\n",
    "for score, name in sorted(zip(feature_importances, feature_names), reverse=True):\n",
    "    print('{}: {}'.format(name, score))"
   ]
  },
  {
   "cell_type": "code",
   "execution_count": 340,
   "metadata": {},
   "outputs": [
    {
     "data": {
      "application/vnd.jupyter.widget-view+json": {
       "model_id": "e6b97c5368224b1fa1d0d9ca4a2c5216",
       "version_major": 2,
       "version_minor": 0
      },
      "text/plain": [
       "MetricVisualizer(layout=Layout(align_self='stretch', height='500px'))"
      ]
     },
     "metadata": {},
     "output_type": "display_data"
    }
   ],
   "source": [
    "model = CatBoostClassifier(iterations=50, random_seed=42, logging_level='Silent').fit(train_pool)\n",
    "eval_metrics = model.eval_metrics(validate_pool, [metrics.AUC()], plot=True)"
   ]
  },
  {
   "cell_type": "code",
   "execution_count": 341,
   "metadata": {},
   "outputs": [],
   "source": [
    "model1 = CatBoostClassifier(iterations=100, depth=1, train_dir='model_depth_1/', logging_level='Silent')\n",
    "model1.fit(train_pool, eval_set=validate_pool)\n",
    "model2 = CatBoostClassifier(iterations=100, depth=5, train_dir='model_depth_5/', logging_level='Silent')\n",
    "model2.fit(train_pool, eval_set=validate_pool);"
   ]
  },
  {
   "cell_type": "code",
   "execution_count": 342,
   "metadata": {},
   "outputs": [
    {
     "data": {
      "application/vnd.jupyter.widget-view+json": {
       "model_id": "ec2d48352808437eb0a1cdc3b749aec2",
       "version_major": 2,
       "version_minor": 0
      },
      "text/plain": [
       "MetricVisualizer(layout=Layout(align_self='stretch', height='500px'))"
      ]
     },
     "metadata": {},
     "output_type": "display_data"
    }
   ],
   "source": [
    "from catboost import MetricVisualizer\n",
    "widget = MetricVisualizer(['model_depth_1', 'model_depth_5'])\n",
    "widget.start()"
   ]
  },
  {
   "cell_type": "code",
   "execution_count": 343,
   "metadata": {},
   "outputs": [],
   "source": [
    "model = CatBoostClassifier(iterations=10, random_seed=42, logging_level='Silent').fit(train_pool)\n",
    "model.save_model('catboost_model.dump')\n",
    "model = CatBoostClassifier()\n",
    "model.load_model('catboost_model.dump');"
   ]
  },
  {
   "cell_type": "code",
   "execution_count": 344,
   "metadata": {},
   "outputs": [],
   "source": [
    "import pandas as pd\n",
    "submisstion = pd.DataFrame()\n",
    "submisstion['PassengerId'] = test_target['PassengerId']\n",
    "submisstion['Survived'] = model.predict(test_features)"
   ]
  },
  {
   "cell_type": "code",
   "execution_count": 345,
   "metadata": {},
   "outputs": [],
   "source": [
    "submisstion.to_csv('submission.csv', index=False)"
   ]
  },
  {
   "cell_type": "code",
   "execution_count": null,
   "metadata": {},
   "outputs": [],
   "source": []
  }
 ],
 "metadata": {
  "kernelspec": {
   "display_name": "Python 3 (ipykernel)",
   "language": "python",
   "name": "python3"
  },
  "language_info": {
   "codemirror_mode": {
    "name": "ipython",
    "version": 3
   },
   "file_extension": ".py",
   "mimetype": "text/x-python",
   "name": "python",
   "nbconvert_exporter": "python",
   "pygments_lexer": "ipython3",
   "version": "3.9.16"
  }
 },
 "nbformat": 4,
 "nbformat_minor": 2
}
